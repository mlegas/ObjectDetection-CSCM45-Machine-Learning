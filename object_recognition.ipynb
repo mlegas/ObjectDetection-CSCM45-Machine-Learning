{
 "cells": [
  {
   "cell_type": "markdown",
   "metadata": {
    "id": "A7PbEDGLZOjN"
   },
   "source": [
    "# Coursework: Object Detection - Maciej Legas - 2031545\n",
    "## Imports\n",
    "Import the necessary packages for this coursework."
   ]
  },
  {
   "cell_type": "code",
   "execution_count": 32,
   "metadata": {
    "id": "jc0bKKAcZOjb"
   },
   "outputs": [],
   "source": [
    "from timeit import default_timer as timer\n",
    "import numpy as np\n",
    "import tensorflow as tf\n",
    "import matplotlib.pyplot as plt\n",
    "import skimage.feature\n",
    "import seaborn as sns\n",
    "# The package above is used for confusion matrix visualization. Reference: https://medium.com/@dtuk81/confusion-matrix-visualization-fc31e3f30fea\n",
    "from sklearn.metrics import classification_report, confusion_matrix, plot_confusion_matrix\n",
    "from sklearn.discriminant_analysis import LinearDiscriminantAnalysis\n",
    "from sklearn.preprocessing import StandardScaler\n",
    "from sklearn.svm import SVC\n",
    "from sklearn.utils import shuffle"
   ]
  },
  {
   "cell_type": "markdown",
   "metadata": {
    "id": "NTwH1VIUTK0_"
   },
   "source": [
    "## Data"
   ]
  },
  {
   "cell_type": "markdown",
   "metadata": {
    "id": "o4EyR5ojZOjg"
   },
   "source": [
    "### Loading, reshaping and shuffling data"
   ]
  },
  {
   "cell_type": "code",
   "execution_count": 33,
   "metadata": {
    "id": "VcfwUlSAFpPW"
   },
   "outputs": [],
   "source": [
    "# The following variable is used in confusion matrices for axis labeling. \n",
    "class_labels = ['airplane', 'automobile', 'bird', 'cat', 'deer', 'dog', 'frog', 'horse', 'ship', 'truck'] "
   ]
  },
  {
   "cell_type": "code",
   "execution_count": 34,
   "metadata": {
    "id": "Vmsd3VKsZOji"
   },
   "outputs": [],
   "source": [
    "train_data = np.load('trnImage.npy')\n",
    "train_labels = np.load('trnLabel.npy')\n",
    "test_data = np.load('tstImage.npy')\n",
    "test_labels = np.load('tstLabel.npy')"
   ]
  },
  {
   "cell_type": "code",
   "execution_count": 35,
   "metadata": {
    "id": "GI74YdSRZOjl",
    "tags": []
   },
   "outputs": [],
   "source": [
    "# Change the shape from Width x Height x Channels x Samples to Samples x Width x Height x Channels.\n",
    "train_data = np.transpose(train_data, (3, 0, 1, 2))\n",
    "test_data = np.transpose(test_data, (3, 0, 1, 2))"
   ]
  },
  {
   "cell_type": "code",
   "execution_count": 36,
   "metadata": {
    "colab": {
     "base_uri": "https://localhost:8080/"
    },
    "id": "UE7tY3RKZOjn",
    "outputId": "96f4b57c-c803-479e-a43a-d9b832e69882"
   },
   "outputs": [
    {
     "name": "stdout",
     "output_type": "stream",
     "text": [
      "(10000, 32, 32, 3)\n",
      "(1000, 32, 32, 3)\n"
     ]
    }
   ],
   "source": [
    "print(train_data.shape)\n",
    "print(test_data.shape)"
   ]
  },
  {
   "cell_type": "code",
   "execution_count": 37,
   "metadata": {
    "id": "lP_jYuwKZOjt"
   },
   "outputs": [],
   "source": [
    "# As the data is sorted in order, we need to shuffle it for training.\n",
    "train_data, train_labels = shuffle(train_data, train_labels)\n",
    "test_data, test_labels = shuffle(test_data, test_labels)"
   ]
  },
  {
   "cell_type": "code",
   "execution_count": 9,
   "metadata": {
    "id": "h1fLq0ZTctNw"
   },
   "outputs": [],
   "source": [
    "# Reshapes the data for use in LDA, SVM and fully connected neural networks.\n",
    "reshaped_train_data = train_data.reshape(10000, 3072)\n",
    "reshaped_test_data = test_data.reshape(1000, 3072)"
   ]
  },
  {
   "cell_type": "markdown",
   "metadata": {
    "id": "_fkm4yhqR3OD"
   },
   "source": [
    "### Histogram of Oriented Gradients"
   ]
  },
  {
   "cell_type": "code",
   "execution_count": 10,
   "metadata": {
    "id": "j9UuVIyIR6ve"
   },
   "outputs": [],
   "source": [
    "hog_train_data = np.zeros((10000, 324))\n",
    "\n",
    "for i in range(0, 10000):\n",
    "  hog_train_data[i, :] = skimage.feature.hog(train_data[i,:,:,:], visualize=False, block_norm='L2-Hys')"
   ]
  },
  {
   "cell_type": "code",
   "execution_count": 11,
   "metadata": {
    "id": "KVtk8Sn8R8Az"
   },
   "outputs": [],
   "source": [
    "hog_test_data = np.zeros((1000, 324))\n",
    "\n",
    "for i in range(0, 1000):\n",
    "  hog_test_data[i, :] = skimage.feature.hog(test_data[i,:,:,:], visualize=False, block_norm='L2-Hys')"
   ]
  },
  {
   "cell_type": "markdown",
   "metadata": {
    "id": "GRVFvQLRSJDM"
   },
   "source": [
    "### Linear Discriminant Analysis (on raw and HOG data)"
   ]
  },
  {
   "cell_type": "code",
   "execution_count": 12,
   "metadata": {
    "id": "abDwGV8ySY-p"
   },
   "outputs": [],
   "source": [
    "lda = LinearDiscriminantAnalysis().fit(reshaped_train_data, np.ravel(train_labels))"
   ]
  },
  {
   "cell_type": "code",
   "execution_count": 13,
   "metadata": {
    "colab": {
     "base_uri": "https://localhost:8080/"
    },
    "id": "GOeHhz79SZe2",
    "outputId": "67068349-4e71-4c89-bc25-f1ca7805c842"
   },
   "outputs": [
    {
     "name": "stdout",
     "output_type": "stream",
     "text": [
      "(10000, 9)\n"
     ]
    }
   ],
   "source": [
    "lda_train_data = lda.transform(reshaped_train_data)\n",
    "lda_test_data = lda.transform(reshaped_test_data)\n",
    "\n",
    "print(lda_train_data.shape)"
   ]
  },
  {
   "cell_type": "code",
   "execution_count": 14,
   "metadata": {
    "id": "DBN1vE4WSPPe"
   },
   "outputs": [],
   "source": [
    "hog_lda = LinearDiscriminantAnalysis().fit(hog_train_data, np.ravel(train_labels))"
   ]
  },
  {
   "cell_type": "code",
   "execution_count": 15,
   "metadata": {
    "colab": {
     "base_uri": "https://localhost:8080/"
    },
    "id": "aS4gDkFVSRXI",
    "outputId": "0a8fc7b6-44f4-4bea-ac88-fac7b9d1fccf"
   },
   "outputs": [
    {
     "name": "stdout",
     "output_type": "stream",
     "text": [
      "(10000, 9)\n"
     ]
    }
   ],
   "source": [
    "hog_lda_train_data = hog_lda.transform(hog_train_data)\n",
    "hog_lda_test_data = hog_lda.transform(hog_test_data)\n",
    "\n",
    "print(hog_lda_train_data.shape)"
   ]
  },
  {
   "cell_type": "markdown",
   "metadata": {
    "id": "PN0KM_EoTRJO"
   },
   "source": [
    "## SVM"
   ]
  },
  {
   "cell_type": "markdown",
   "metadata": {},
   "source": [
    "### Using the dataset directly as input"
   ]
  },
  {
   "cell_type": "code",
   "execution_count": 16,
   "metadata": {
    "id": "x-3bq7ZuNAbX"
   },
   "outputs": [],
   "source": [
    "standard_scaler = StandardScaler().fit(reshaped_train_data)"
   ]
  },
  {
   "cell_type": "code",
   "execution_count": 17,
   "metadata": {
    "id": "jC1l2cb0NB02"
   },
   "outputs": [],
   "source": [
    "svm_train_data = standard_scaler.transform(reshaped_train_data)\n",
    "svm_test_data = standard_scaler.transform(reshaped_test_data)"
   ]
  },
  {
   "cell_type": "code",
   "execution_count": 18,
   "metadata": {
    "id": "uV8Noi6dNF42"
   },
   "outputs": [],
   "source": [
    "start = timer()\n",
    "svm = SVC(kernel='rbf', C=1.0).fit(svm_train_data, np.ravel(train_labels))\n",
    "end = timer()"
   ]
  },
  {
   "cell_type": "code",
   "execution_count": 19,
   "metadata": {
    "colab": {
     "base_uri": "https://localhost:8080/"
    },
    "id": "B6CVYUVIVF-1",
    "outputId": "b19c5bc1-01eb-4b59-9c74-7b25b3cbc3c5"
   },
   "outputs": [
    {
     "name": "stdout",
     "output_type": "stream",
     "text": [
      "476.08349776800003 seconds training time.\n"
     ]
    }
   ],
   "source": [
    "time_taken = end - start\n",
    "print(time_taken, \"seconds training time.\")"
   ]
  },
  {
   "cell_type": "code",
   "execution_count": 20,
   "metadata": {
    "colab": {
     "base_uri": "https://localhost:8080/"
    },
    "id": "jlicWCC6Txdo",
    "outputId": "9ff195fc-5cbf-4977-8333-4c4accb50ae4"
   },
   "outputs": [
    {
     "data": {
      "text/plain": [
       "0.484"
      ]
     },
     "execution_count": 20,
     "metadata": {
      "tags": []
     },
     "output_type": "execute_result"
    }
   ],
   "source": [
    "svm.score(svm_test_data, test_labels)"
   ]
  },
  {
   "cell_type": "code",
   "execution_count": 21,
   "metadata": {
    "colab": {
     "base_uri": "https://localhost:8080/",
     "height": 525
    },
    "id": "YeH0mbcOT_af",
    "outputId": "537cd412-8c81-4a03-9d0f-956b58ae5425"
   },
   "outputs": [
    {
     "name": "stdout",
     "output_type": "stream",
     "text": [
      "[[53  5  4  4  3  2  4  3 18  4]\n",
      " [ 5 50  3  2  5  1  4  6  7 17]\n",
      " [16  1 33  6 16  5 10  6  3  4]\n",
      " [ 6  3  9 34 10 17  4  4  4  9]\n",
      " [ 2  4 10  8 46  6 11  3  6  4]\n",
      " [ 2  3 10 17  6 43  9  2  5  3]\n",
      " [ 3  1  8  7 11  4 56  3  2  5]\n",
      " [ 5  5  7  5 16  7  4 43  1  7]\n",
      " [ 6  9  5  2  1  1  0  1 68  7]\n",
      " [ 7 18  0  4  0  4  1  3  5 58]]\n"
     ]
    },
    {
     "data": {
      "image/png": "[encoded data removed]",
      "text/plain": [
       "<Figure size 432x288 with 2 Axes>"
      ]
     },
     "metadata": {
      "needs_background": "light",
      "tags": []
     },
     "output_type": "display_data"
    }
   ],
   "source": [
    "chart = plot_confusion_matrix(svm, svm_test_data, test_labels, xticks_rotation = 'vertical',\n",
    "                              display_labels=class_labels)\n",
    "chart.ax_.set_title(\"Confusion matrix for SVM\")\n",
    "print(chart.confusion_matrix)"
   ]
  },
  {
   "cell_type": "code",
   "execution_count": 22,
   "metadata": {
    "id": "_3jbmSqzUADF"
   },
   "outputs": [],
   "source": [
    "predictions = svm.predict(svm_test_data)"
   ]
  },
  {
   "cell_type": "code",
   "execution_count": 23,
   "metadata": {
    "colab": {
     "base_uri": "https://localhost:8080/"
    },
    "id": "-2KtWHtpUC9C",
    "outputId": "3af455f5-a060-44fb-bd30-78a742dcacae"
   },
   "outputs": [
    {
     "name": "stdout",
     "output_type": "stream",
     "text": [
      "              precision    recall  f1-score   support\n",
      "\n",
      "           0       0.50      0.53      0.52       100\n",
      "           1       0.51      0.50      0.50       100\n",
      "           2       0.37      0.33      0.35       100\n",
      "           3       0.38      0.34      0.36       100\n",
      "           4       0.40      0.46      0.43       100\n",
      "           5       0.48      0.43      0.45       100\n",
      "           6       0.54      0.56      0.55       100\n",
      "           7       0.58      0.43      0.49       100\n",
      "           8       0.57      0.68      0.62       100\n",
      "           9       0.49      0.58      0.53       100\n",
      "\n",
      "    accuracy                           0.48      1000\n",
      "   macro avg       0.48      0.48      0.48      1000\n",
      "weighted avg       0.48      0.48      0.48      1000\n",
      "\n"
     ]
    }
   ],
   "source": [
    "print(classification_report(test_labels, predictions))"
   ]
  },
  {
   "cell_type": "markdown",
   "metadata": {
    "id": "wkvaMYnbclTG"
   },
   "source": [
    "### HOG + SVM"
   ]
  },
  {
   "cell_type": "code",
   "execution_count": 24,
   "metadata": {
    "id": "YHp1CEkwcmy6"
   },
   "outputs": [],
   "source": [
    "standard_scaler = StandardScaler().fit(hog_train_data)"
   ]
  },
  {
   "cell_type": "code",
   "execution_count": 25,
   "metadata": {
    "id": "vnmjXtlQc7xT"
   },
   "outputs": [],
   "source": [
    "svm_train_data = standard_scaler.transform(hog_train_data)\n",
    "svm_test_data = standard_scaler.transform(hog_test_data)"
   ]
  },
  {
   "cell_type": "code",
   "execution_count": 26,
   "metadata": {
    "id": "WKG3WZQUdCj_"
   },
   "outputs": [],
   "source": [
    "start = timer()\n",
    "svm = SVC(kernel='rbf', C=1.0).fit(svm_train_data, np.ravel(train_labels))\n",
    "end = timer()"
   ]
  },
  {
   "cell_type": "code",
   "execution_count": 27,
   "metadata": {
    "colab": {
     "base_uri": "https://localhost:8080/"
    },
    "id": "sEMHAGQvVD8U",
    "outputId": "04c31b75-c389-462b-a958-0281204a2aff"
   },
   "outputs": [
    {
     "name": "stdout",
     "output_type": "stream",
     "text": [
      "44.386343501000056 seconds training time.\n"
     ]
    }
   ],
   "source": [
    "time_taken = end - start\n",
    "print(time_taken, \"seconds training time.\")"
   ]
  },
  {
   "cell_type": "code",
   "execution_count": 28,
   "metadata": {
    "colab": {
     "base_uri": "https://localhost:8080/"
    },
    "id": "3SFuoPPFdFac",
    "outputId": "fac8a114-5d6a-4989-f451-62ab026234ae"
   },
   "outputs": [
    {
     "data": {
      "text/plain": [
       "0.599"
      ]
     },
     "execution_count": 28,
     "metadata": {
      "tags": []
     },
     "output_type": "execute_result"
    }
   ],
   "source": [
    "svm.score(svm_test_data, test_labels)"
   ]
  },
  {
   "cell_type": "code",
   "execution_count": 29,
   "metadata": {
    "colab": {
     "base_uri": "https://localhost:8080/",
     "height": 525
    },
    "id": "__F-wCQg0Adh",
    "outputId": "4b755fb1-7e0d-45db-9b2f-7711c03ebe9c"
   },
   "outputs": [
    {
     "name": "stdout",
     "output_type": "stream",
     "text": [
      "[[69  2  6  2  4  1  2  4  9  1]\n",
      " [ 4 64  0  2  4  1  3  3 11  8]\n",
      " [ 6  1 50  6  6 15  8  4  2  2]\n",
      " [ 2  3 14 42 11 11  9  4  1  3]\n",
      " [ 4  2  7 13 63  4  5  0  2  0]\n",
      " [ 1  1  6  9  9 58  7  7  1  1]\n",
      " [ 2  4  7  7  8  8 62  1  1  0]\n",
      " [ 2  0  6 10 11  8  3 56  1  3]\n",
      " [10 10  4  2  1  0  1  0 69  3]\n",
      " [ 5  7  2  4  2  3  0  2  9 66]]\n"
     ]
    },
    {
     "data": {
      "image/png": "[encoded data removed]",
      "text/plain": [
       "<Figure size 432x288 with 2 Axes>"
      ]
     },
     "metadata": {
      "needs_background": "light",
      "tags": []
     },
     "output_type": "display_data"
    }
   ],
   "source": [
    "chart = plot_confusion_matrix(svm, svm_test_data, test_labels, xticks_rotation = 'vertical',\n",
    "                              display_labels=class_labels)\n",
    "chart.ax_.set_title(\"Confusion matrix for HOG + SVM\")\n",
    "print(chart.confusion_matrix)"
   ]
  },
  {
   "cell_type": "code",
   "execution_count": 30,
   "metadata": {
    "id": "7Rgp-GNnI37p"
   },
   "outputs": [],
   "source": [
    "predictions = svm.predict(svm_test_data)"
   ]
  },
  {
   "cell_type": "code",
   "execution_count": null,
   "metadata": {
    "colab": {
     "base_uri": "https://localhost:8080/"
    },
    "id": "XaChGXvsI0OA",
    "outputId": "b8df3b56-ef3e-4683-cf86-df8052dcb421"
   },
   "outputs": [
    {
     "name": "stdout",
     "output_type": "stream",
     "text": [
      "              precision    recall  f1-score   support\n",
      "\n",
      "           0       0.66      0.69      0.67       100\n",
      "           1       0.68      0.64      0.66       100\n",
      "           2       0.49      0.50      0.50       100\n",
      "           3       0.43      0.42      0.43       100\n",
      "           4       0.53      0.63      0.58       100\n",
      "           5       0.53      0.58      0.56       100\n",
      "           6       0.62      0.62      0.62       100\n",
      "           7       0.69      0.56      0.62       100\n",
      "           8       0.65      0.69      0.67       100\n",
      "           9       0.76      0.66      0.71       100\n",
      "\n",
      "    accuracy                           0.60      1000\n",
      "   macro avg       0.60      0.60      0.60      1000\n",
      "weighted avg       0.60      0.60      0.60      1000\n",
      "\n"
     ]
    }
   ],
   "source": [
    "print(classification_report(test_labels, predictions))"
   ]
  },
  {
   "cell_type": "markdown",
   "metadata": {
    "id": "j4O9k-5gHayg"
   },
   "source": [
    "### LDA + SVM"
   ]
  },
  {
   "cell_type": "code",
   "execution_count": null,
   "metadata": {
    "id": "M1OqQdimHaYE"
   },
   "outputs": [],
   "source": [
    "standard_scaler = StandardScaler().fit(lda_train_data)"
   ]
  },
  {
   "cell_type": "code",
   "execution_count": null,
   "metadata": {
    "id": "f2NPM8X-KHVi"
   },
   "outputs": [],
   "source": [
    "svm_train_data = standard_scaler.transform(lda_train_data)\n",
    "svm_test_data = standard_scaler.transform(lda_test_data)"
   ]
  },
  {
   "cell_type": "code",
   "execution_count": null,
   "metadata": {
    "id": "Av53jMQCKvVS"
   },
   "outputs": [],
   "source": [
    "start = timer()\n",
    "svm = SVC(kernel='rbf', C=1.0).fit(svm_train_data, np.ravel(train_labels))\n",
    "end = timer()"
   ]
  },
  {
   "cell_type": "code",
   "execution_count": null,
   "metadata": {
    "colab": {
     "base_uri": "https://localhost:8080/"
    },
    "id": "0fgP9p8NVCP1",
    "outputId": "00ee3b27-47bc-4f84-84d5-7fc48796c8f8"
   },
   "outputs": [
    {
     "name": "stdout",
     "output_type": "stream",
     "text": [
      "1.8940473450002173 seconds training time.\n"
     ]
    }
   ],
   "source": [
    "time_taken = end - start\n",
    "print(time_taken, \"seconds training time.\")"
   ]
  },
  {
   "cell_type": "code",
   "execution_count": null,
   "metadata": {
    "colab": {
     "base_uri": "https://localhost:8080/"
    },
    "id": "me4NEGK_aFsH",
    "outputId": "d5a83851-05d5-41e0-81b6-ec3e7b523416"
   },
   "outputs": [
    {
     "data": {
      "text/plain": [
       "0.252"
      ]
     },
     "execution_count": 35,
     "metadata": {
      "tags": []
     },
     "output_type": "execute_result"
    }
   ],
   "source": [
    "svm.score(svm_test_data, test_labels)"
   ]
  },
  {
   "cell_type": "code",
   "execution_count": null,
   "metadata": {
    "colab": {
     "base_uri": "https://localhost:8080/",
     "height": 525
    },
    "id": "Lzv15CKF59eM",
    "outputId": "bd1ad334-0ea1-439d-c75f-088266eefeb8"
   },
   "outputs": [
    {
     "name": "stdout",
     "output_type": "stream",
     "text": [
      "[[28 16  6  4  6  2  4  4 21  9]\n",
      " [ 6 41  7  5  4  8  4  9  3 13]\n",
      " [13 12 13 10  8 10 10 14  6  4]\n",
      " [ 9  7 10 22 11 17  8  7  4  5]\n",
      " [ 5  9 10 10 25  9 12 10  7  3]\n",
      " [ 2 13  5 14 12 22 16  2  9  5]\n",
      " [ 3 11 12 18 10 14 17  5  4  6]\n",
      " [ 4 10 14  8 11 11 10 20  5  7]\n",
      " [15  9  6  3  3  6  4  3 37 14]\n",
      " [ 7 26  8  6  6  2  2  5 11 27]]\n"
     ]
    },
    {
     "data": {
      "image/png": "[encoded data removed]",
      "text/plain": [
       "<Figure size 432x288 with 2 Axes>"
      ]
     },
     "metadata": {
      "needs_background": "light",
      "tags": []
     },
     "output_type": "display_data"
    }
   ],
   "source": [
    "chart = plot_confusion_matrix(svm, svm_test_data, test_labels, xticks_rotation = 'vertical',\n",
    "                                 display_labels=class_labels)\n",
    "chart.ax_.set_title(\"Confusion matrix for LDA + SVM\")\n",
    "print(chart.confusion_matrix)"
   ]
  },
  {
   "cell_type": "code",
   "execution_count": null,
   "metadata": {
    "id": "8l3q8acxJEn6"
   },
   "outputs": [],
   "source": [
    "predictions = svm.predict(svm_test_data)"
   ]
  },
  {
   "cell_type": "code",
   "execution_count": null,
   "metadata": {
    "colab": {
     "base_uri": "https://localhost:8080/"
    },
    "id": "1B4Mzx2EJF9F",
    "outputId": "7ecb0eb4-6b3c-4dfe-b42a-f9346bb1e682"
   },
   "outputs": [
    {
     "name": "stdout",
     "output_type": "stream",
     "text": [
      "              precision    recall  f1-score   support\n",
      "\n",
      "           0       0.30      0.28      0.29       100\n",
      "           1       0.27      0.41      0.32       100\n",
      "           2       0.14      0.13      0.14       100\n",
      "           3       0.22      0.22      0.22       100\n",
      "           4       0.26      0.25      0.26       100\n",
      "           5       0.22      0.22      0.22       100\n",
      "           6       0.20      0.17      0.18       100\n",
      "           7       0.25      0.20      0.22       100\n",
      "           8       0.35      0.37      0.36       100\n",
      "           9       0.29      0.27      0.28       100\n",
      "\n",
      "    accuracy                           0.25      1000\n",
      "   macro avg       0.25      0.25      0.25      1000\n",
      "weighted avg       0.25      0.25      0.25      1000\n",
      "\n"
     ]
    }
   ],
   "source": [
    "print(classification_report(test_labels, predictions))"
   ]
  },
  {
   "cell_type": "markdown",
   "metadata": {
    "id": "QtuPDXfySnUq"
   },
   "source": [
    "### HOG + LDA + SVM"
   ]
  },
  {
   "cell_type": "code",
   "execution_count": null,
   "metadata": {
    "id": "DcUVw6q6T67W"
   },
   "outputs": [],
   "source": [
    "standard_scaler = StandardScaler().fit(hog_lda_train_data)"
   ]
  },
  {
   "cell_type": "code",
   "execution_count": null,
   "metadata": {
    "id": "fmdx2rHET-gi"
   },
   "outputs": [],
   "source": [
    "svm_train_data = standard_scaler.transform(hog_lda_train_data)\n",
    "svm_test_data = standard_scaler.transform(hog_lda_test_data)"
   ]
  },
  {
   "cell_type": "code",
   "execution_count": null,
   "metadata": {
    "id": "XgBsRrYTUCa6"
   },
   "outputs": [],
   "source": [
    "start = timer()\n",
    "svm = SVC(kernel='rbf', C=1.0).fit(svm_train_data, np.ravel(train_labels))\n",
    "end = timer()"
   ]
  },
  {
   "cell_type": "code",
   "execution_count": null,
   "metadata": {
    "colab": {
     "base_uri": "https://localhost:8080/"
    },
    "id": "TDtz_G6mVAX0",
    "outputId": "112eba7e-7321-425b-ba55-bbb43f5d0aba"
   },
   "outputs": [
    {
     "name": "stdout",
     "output_type": "stream",
     "text": [
      "3.9660458629996356 seconds training time.\n"
     ]
    }
   ],
   "source": [
    "time_taken = end - start\n",
    "print(time_taken, \"seconds training time.\")"
   ]
  },
  {
   "cell_type": "code",
   "execution_count": null,
   "metadata": {
    "colab": {
     "base_uri": "https://localhost:8080/"
    },
    "id": "sng65sSJUIhD",
    "outputId": "ae9e5dc3-c60c-45b8-9494-626668d4aa74"
   },
   "outputs": [
    {
     "data": {
      "text/plain": [
       "0.501"
      ]
     },
     "execution_count": 43,
     "metadata": {
      "tags": []
     },
     "output_type": "execute_result"
    }
   ],
   "source": [
    "svm.score(svm_test_data, test_labels)"
   ]
  },
  {
   "cell_type": "code",
   "execution_count": null,
   "metadata": {
    "colab": {
     "base_uri": "https://localhost:8080/",
     "height": 525
    },
    "id": "iFTw_Ldv5_SB",
    "outputId": "e46683de-54a6-4787-acab-5af5a2a5903f"
   },
   "outputs": [
    {
     "name": "stdout",
     "output_type": "stream",
     "text": [
      "[[64  3  7  1  6  1  3  2  9  4]\n",
      " [ 5 51  2  4  5  1  4  3 12 13]\n",
      " [ 9  4 37  6  8 18 10  4  4  0]\n",
      " [ 3  5 13 27 17 11 14  6  2  2]\n",
      " [ 5  2 10 11 53  5  8  4  0  2]\n",
      " [ 2  3  9 10  9 53  7  6  0  1]\n",
      " [ 1  3  9  9 11  8 50  7  0  2]\n",
      " [ 0  2  4 10 16  5  3 52  3  5]\n",
      " [17 11  4  3  3  0  1  0 53  8]\n",
      " [ 4 10  2  1  4  2  2  3 11 61]]\n"
     ]
    },
    {
     "data": {
      "image/png": "[encoded data removed]",
      "text/plain": [
       "<Figure size 432x288 with 2 Axes>"
      ]
     },
     "metadata": {
      "needs_background": "light",
      "tags": []
     },
     "output_type": "display_data"
    }
   ],
   "source": [
    "chart = plot_confusion_matrix(svm, svm_test_data, test_labels, xticks_rotation = 'vertical',\n",
    "                                 display_labels=class_labels)\n",
    "chart.ax_.set_title(\"Confusion matrix for HOG + LDA + SVM\")\n",
    "print(chart.confusion_matrix)"
   ]
  },
  {
   "cell_type": "code",
   "execution_count": null,
   "metadata": {
    "id": "ZcG5rP60JHkv"
   },
   "outputs": [],
   "source": [
    "predictions = svm.predict(svm_test_data)"
   ]
  },
  {
   "cell_type": "code",
   "execution_count": null,
   "metadata": {
    "colab": {
     "base_uri": "https://localhost:8080/"
    },
    "id": "JOrtdy28JIkt",
    "outputId": "1a09aae1-6e49-46fb-e3d3-4ecb8082c7dc"
   },
   "outputs": [
    {
     "name": "stdout",
     "output_type": "stream",
     "text": [
      "              precision    recall  f1-score   support\n",
      "\n",
      "           0       0.58      0.64      0.61       100\n",
      "           1       0.54      0.51      0.53       100\n",
      "           2       0.38      0.37      0.38       100\n",
      "           3       0.33      0.27      0.30       100\n",
      "           4       0.40      0.53      0.46       100\n",
      "           5       0.51      0.53      0.52       100\n",
      "           6       0.49      0.50      0.50       100\n",
      "           7       0.60      0.52      0.56       100\n",
      "           8       0.56      0.53      0.55       100\n",
      "           9       0.62      0.61      0.62       100\n",
      "\n",
      "    accuracy                           0.50      1000\n",
      "   macro avg       0.50      0.50      0.50      1000\n",
      "weighted avg       0.50      0.50      0.50      1000\n",
      "\n"
     ]
    }
   ],
   "source": [
    "print(classification_report(test_labels, predictions))"
   ]
  },
  {
   "cell_type": "markdown",
   "metadata": {
    "id": "vE-pwxHpSxZb"
   },
   "source": [
    "## Artificial Neural Network"
   ]
  },
  {
   "cell_type": "markdown",
   "metadata": {
    "id": "Ejly-i4XUJkA"
   },
   "source": [
    "### Using the dataset directly as input"
   ]
  },
  {
   "cell_type": "code",
   "execution_count": null,
   "metadata": {
    "id": "fR3DD5mPUT63"
   },
   "outputs": [],
   "source": [
    "nn_model = tf.keras.Sequential(layers=[\n",
    "    tf.keras.layers.Dense(3072, activation=tf.nn.relu),\n",
    "    tf.keras.layers.Dense(1024, activation=tf.nn.relu),\n",
    "    tf.keras.layers.Dense(128, activation=tf.nn.relu),\n",
    "    tf.keras.layers.Dense(10, activation=tf.nn.softmax)])"
   ]
  },
  {
   "cell_type": "code",
   "execution_count": null,
   "metadata": {
    "id": "5fj0NrtXZXgd"
   },
   "outputs": [],
   "source": [
    "nn_model.compile(optimizer=tf.keras.optimizers.Adam(learning_rate=0.001), \n",
    "loss=tf.keras.losses.SparseCategoricalCrossentropy(), \n",
    "metrics=tf.keras.metrics.SparseCategoricalAccuracy())"
   ]
  },
  {
   "cell_type": "code",
   "execution_count": null,
   "metadata": {
    "colab": {
     "base_uri": "https://localhost:8080/"
    },
    "id": "SBschX60Zcyx",
    "outputId": "9c535857-ab4a-4212-cec9-b2ba7378c473"
   },
   "outputs": [
    {
     "name": "stdout",
     "output_type": "stream",
     "text": [
      "Epoch 1/100\n",
      "282/282 [==============================] - 3s 9ms/step - loss: 2.1857 - sparse_categorical_accuracy: 0.2118 - val_loss: 1.9137 - val_sparse_categorical_accuracy: 0.3030\n",
      "Epoch 2/100\n",
      "282/282 [==============================] - 2s 8ms/step - loss: 1.8921 - sparse_categorical_accuracy: 0.3097 - val_loss: 1.9445 - val_sparse_categorical_accuracy: 0.2970\n",
      "Epoch 3/100\n",
      "282/282 [==============================] - 2s 8ms/step - loss: 1.8301 - sparse_categorical_accuracy: 0.3308 - val_loss: 1.8544 - val_sparse_categorical_accuracy: 0.3210\n",
      "Epoch 4/100\n",
      "282/282 [==============================] - 2s 8ms/step - loss: 1.7566 - sparse_categorical_accuracy: 0.3582 - val_loss: 1.8529 - val_sparse_categorical_accuracy: 0.3390\n",
      "Epoch 5/100\n",
      "282/282 [==============================] - 2s 8ms/step - loss: 1.7108 - sparse_categorical_accuracy: 0.3789 - val_loss: 1.7821 - val_sparse_categorical_accuracy: 0.3560\n",
      "Epoch 6/100\n",
      "282/282 [==============================] - 2s 8ms/step - loss: 1.6599 - sparse_categorical_accuracy: 0.4024 - val_loss: 1.7826 - val_sparse_categorical_accuracy: 0.3590\n",
      "Epoch 7/100\n",
      "282/282 [==============================] - 2s 8ms/step - loss: 1.6265 - sparse_categorical_accuracy: 0.4091 - val_loss: 1.6979 - val_sparse_categorical_accuracy: 0.3900\n",
      "Epoch 8/100\n",
      "282/282 [==============================] - 2s 8ms/step - loss: 1.5986 - sparse_categorical_accuracy: 0.4202 - val_loss: 1.6960 - val_sparse_categorical_accuracy: 0.3870\n",
      "Epoch 9/100\n",
      "282/282 [==============================] - 2s 8ms/step - loss: 1.5584 - sparse_categorical_accuracy: 0.4360 - val_loss: 1.7406 - val_sparse_categorical_accuracy: 0.3860\n",
      "Epoch 10/100\n",
      "282/282 [==============================] - 2s 8ms/step - loss: 1.5180 - sparse_categorical_accuracy: 0.4454 - val_loss: 1.7040 - val_sparse_categorical_accuracy: 0.4210\n",
      "Epoch 11/100\n",
      "282/282 [==============================] - 2s 8ms/step - loss: 1.4828 - sparse_categorical_accuracy: 0.4629 - val_loss: 1.6891 - val_sparse_categorical_accuracy: 0.4050\n",
      "Epoch 12/100\n",
      "282/282 [==============================] - 2s 8ms/step - loss: 1.4639 - sparse_categorical_accuracy: 0.4680 - val_loss: 1.7152 - val_sparse_categorical_accuracy: 0.4120\n",
      "Epoch 13/100\n",
      "282/282 [==============================] - 2s 8ms/step - loss: 1.4307 - sparse_categorical_accuracy: 0.4789 - val_loss: 1.8100 - val_sparse_categorical_accuracy: 0.3720\n",
      "Epoch 14/100\n",
      "282/282 [==============================] - 2s 8ms/step - loss: 1.4056 - sparse_categorical_accuracy: 0.4942 - val_loss: 1.6489 - val_sparse_categorical_accuracy: 0.4360\n",
      "Epoch 15/100\n",
      "282/282 [==============================] - 2s 8ms/step - loss: 1.3599 - sparse_categorical_accuracy: 0.5041 - val_loss: 1.7114 - val_sparse_categorical_accuracy: 0.4350\n",
      "Epoch 16/100\n",
      "282/282 [==============================] - 2s 8ms/step - loss: 1.3312 - sparse_categorical_accuracy: 0.5184 - val_loss: 1.6903 - val_sparse_categorical_accuracy: 0.4160\n",
      "Epoch 17/100\n",
      "282/282 [==============================] - 2s 8ms/step - loss: 1.3021 - sparse_categorical_accuracy: 0.5262 - val_loss: 1.7980 - val_sparse_categorical_accuracy: 0.3940\n",
      "Epoch 18/100\n",
      "282/282 [==============================] - 2s 8ms/step - loss: 1.2957 - sparse_categorical_accuracy: 0.5298 - val_loss: 1.7252 - val_sparse_categorical_accuracy: 0.4240\n",
      "Epoch 19/100\n",
      "282/282 [==============================] - 2s 8ms/step - loss: 1.2367 - sparse_categorical_accuracy: 0.5491 - val_loss: 1.7397 - val_sparse_categorical_accuracy: 0.4190\n",
      "Epoch 20/100\n",
      "282/282 [==============================] - 2s 8ms/step - loss: 1.2001 - sparse_categorical_accuracy: 0.5653 - val_loss: 1.7022 - val_sparse_categorical_accuracy: 0.4350\n",
      "Epoch 21/100\n",
      "282/282 [==============================] - 2s 8ms/step - loss: 1.1616 - sparse_categorical_accuracy: 0.5702 - val_loss: 1.7594 - val_sparse_categorical_accuracy: 0.4340\n",
      "Epoch 22/100\n",
      "282/282 [==============================] - 2s 8ms/step - loss: 1.1348 - sparse_categorical_accuracy: 0.5848 - val_loss: 1.8312 - val_sparse_categorical_accuracy: 0.4190\n",
      "Epoch 23/100\n",
      "282/282 [==============================] - 2s 8ms/step - loss: 1.0887 - sparse_categorical_accuracy: 0.6034 - val_loss: 1.8518 - val_sparse_categorical_accuracy: 0.4270\n",
      "Epoch 24/100\n",
      "282/282 [==============================] - 2s 8ms/step - loss: 1.0666 - sparse_categorical_accuracy: 0.6112 - val_loss: 1.9001 - val_sparse_categorical_accuracy: 0.4070\n",
      "Epoch 25/100\n",
      "282/282 [==============================] - 2s 8ms/step - loss: 1.0132 - sparse_categorical_accuracy: 0.6328 - val_loss: 1.9650 - val_sparse_categorical_accuracy: 0.4290\n",
      "Epoch 26/100\n",
      "282/282 [==============================] - 2s 8ms/step - loss: 1.0030 - sparse_categorical_accuracy: 0.6299 - val_loss: 1.9694 - val_sparse_categorical_accuracy: 0.4180\n",
      "Epoch 27/100\n",
      "282/282 [==============================] - 2s 8ms/step - loss: 0.9349 - sparse_categorical_accuracy: 0.6641 - val_loss: 1.9591 - val_sparse_categorical_accuracy: 0.4330\n",
      "Epoch 28/100\n",
      "282/282 [==============================] - 2s 8ms/step - loss: 0.9263 - sparse_categorical_accuracy: 0.6588 - val_loss: 1.9666 - val_sparse_categorical_accuracy: 0.4270\n",
      "Epoch 29/100\n",
      "282/282 [==============================] - 2s 8ms/step - loss: 0.8692 - sparse_categorical_accuracy: 0.6841 - val_loss: 2.0696 - val_sparse_categorical_accuracy: 0.4250\n",
      "Epoch 30/100\n",
      "282/282 [==============================] - 2s 8ms/step - loss: 0.8471 - sparse_categorical_accuracy: 0.6930 - val_loss: 2.2195 - val_sparse_categorical_accuracy: 0.4250\n",
      "Epoch 31/100\n",
      "282/282 [==============================] - 2s 8ms/step - loss: 0.7954 - sparse_categorical_accuracy: 0.7122 - val_loss: 2.2215 - val_sparse_categorical_accuracy: 0.4060\n",
      "Epoch 32/100\n",
      "282/282 [==============================] - 2s 8ms/step - loss: 0.7500 - sparse_categorical_accuracy: 0.7236 - val_loss: 2.2756 - val_sparse_categorical_accuracy: 0.4400\n",
      "Epoch 33/100\n",
      "282/282 [==============================] - 2s 8ms/step - loss: 0.7241 - sparse_categorical_accuracy: 0.7398 - val_loss: 2.3569 - val_sparse_categorical_accuracy: 0.4160\n",
      "Epoch 34/100\n",
      "282/282 [==============================] - 2s 8ms/step - loss: 0.6983 - sparse_categorical_accuracy: 0.7467 - val_loss: 2.4189 - val_sparse_categorical_accuracy: 0.4230\n",
      "Epoch 35/100\n",
      "282/282 [==============================] - 2s 8ms/step - loss: 0.6434 - sparse_categorical_accuracy: 0.7721 - val_loss: 2.3373 - val_sparse_categorical_accuracy: 0.4470\n",
      "Epoch 36/100\n",
      "282/282 [==============================] - 2s 8ms/step - loss: 0.6057 - sparse_categorical_accuracy: 0.7820 - val_loss: 2.4698 - val_sparse_categorical_accuracy: 0.4280\n",
      "Epoch 37/100\n",
      "282/282 [==============================] - 2s 8ms/step - loss: 0.5943 - sparse_categorical_accuracy: 0.7822 - val_loss: 2.5256 - val_sparse_categorical_accuracy: 0.4410\n",
      "Epoch 38/100\n",
      "282/282 [==============================] - 2s 8ms/step - loss: 0.5751 - sparse_categorical_accuracy: 0.7924 - val_loss: 2.6658 - val_sparse_categorical_accuracy: 0.4190\n",
      "Epoch 39/100\n",
      "282/282 [==============================] - 2s 8ms/step - loss: 0.5522 - sparse_categorical_accuracy: 0.8016 - val_loss: 2.7861 - val_sparse_categorical_accuracy: 0.4290\n",
      "Epoch 40/100\n",
      "282/282 [==============================] - 2s 8ms/step - loss: 0.4990 - sparse_categorical_accuracy: 0.8200 - val_loss: 2.9574 - val_sparse_categorical_accuracy: 0.4160\n",
      "Epoch 41/100\n",
      "282/282 [==============================] - 2s 8ms/step - loss: 0.4738 - sparse_categorical_accuracy: 0.8284 - val_loss: 2.8611 - val_sparse_categorical_accuracy: 0.4340\n",
      "Epoch 42/100\n",
      "282/282 [==============================] - 2s 8ms/step - loss: 0.4599 - sparse_categorical_accuracy: 0.8363 - val_loss: 3.1439 - val_sparse_categorical_accuracy: 0.4290\n",
      "Epoch 43/100\n",
      "282/282 [==============================] - 2s 8ms/step - loss: 0.4372 - sparse_categorical_accuracy: 0.8396 - val_loss: 3.0900 - val_sparse_categorical_accuracy: 0.4360\n",
      "Epoch 44/100\n",
      "282/282 [==============================] - 2s 8ms/step - loss: 0.4292 - sparse_categorical_accuracy: 0.8438 - val_loss: 3.1926 - val_sparse_categorical_accuracy: 0.4210\n",
      "Epoch 45/100\n",
      "282/282 [==============================] - 2s 8ms/step - loss: 0.3802 - sparse_categorical_accuracy: 0.8666 - val_loss: 3.3026 - val_sparse_categorical_accuracy: 0.4490\n",
      "Epoch 46/100\n",
      "282/282 [==============================] - 2s 8ms/step - loss: 0.3826 - sparse_categorical_accuracy: 0.8636 - val_loss: 3.2685 - val_sparse_categorical_accuracy: 0.4380\n",
      "Epoch 47/100\n",
      "282/282 [==============================] - 2s 8ms/step - loss: 0.3326 - sparse_categorical_accuracy: 0.8797 - val_loss: 3.4500 - val_sparse_categorical_accuracy: 0.4300\n",
      "Epoch 48/100\n",
      "282/282 [==============================] - 2s 8ms/step - loss: 0.4092 - sparse_categorical_accuracy: 0.8531 - val_loss: 3.4846 - val_sparse_categorical_accuracy: 0.4220\n",
      "Epoch 49/100\n",
      "282/282 [==============================] - 2s 8ms/step - loss: 0.2799 - sparse_categorical_accuracy: 0.9022 - val_loss: 3.8189 - val_sparse_categorical_accuracy: 0.4090\n",
      "Epoch 50/100\n",
      "282/282 [==============================] - 2s 8ms/step - loss: 0.3511 - sparse_categorical_accuracy: 0.8786 - val_loss: 3.7005 - val_sparse_categorical_accuracy: 0.4380\n",
      "Epoch 51/100\n",
      "282/282 [==============================] - 2s 8ms/step - loss: 0.3008 - sparse_categorical_accuracy: 0.8920 - val_loss: 3.8416 - val_sparse_categorical_accuracy: 0.4460\n",
      "Epoch 52/100\n",
      "282/282 [==============================] - 2s 8ms/step - loss: 0.2763 - sparse_categorical_accuracy: 0.9011 - val_loss: 3.8340 - val_sparse_categorical_accuracy: 0.4360\n",
      "Epoch 53/100\n",
      "282/282 [==============================] - 2s 8ms/step - loss: 0.2670 - sparse_categorical_accuracy: 0.9042 - val_loss: 4.1096 - val_sparse_categorical_accuracy: 0.4130\n",
      "Epoch 54/100\n",
      "282/282 [==============================] - 2s 8ms/step - loss: 0.2838 - sparse_categorical_accuracy: 0.8951 - val_loss: 4.1076 - val_sparse_categorical_accuracy: 0.4170\n",
      "Epoch 55/100\n",
      "282/282 [==============================] - 2s 8ms/step - loss: 0.2377 - sparse_categorical_accuracy: 0.9184 - val_loss: 4.0620 - val_sparse_categorical_accuracy: 0.4150\n",
      "Epoch 56/100\n",
      "282/282 [==============================] - 2s 8ms/step - loss: 0.2181 - sparse_categorical_accuracy: 0.9226 - val_loss: 4.2748 - val_sparse_categorical_accuracy: 0.4050\n",
      "Epoch 57/100\n",
      "282/282 [==============================] - 2s 8ms/step - loss: 0.3190 - sparse_categorical_accuracy: 0.8876 - val_loss: 3.9337 - val_sparse_categorical_accuracy: 0.4360\n",
      "Epoch 58/100\n",
      "282/282 [==============================] - 2s 8ms/step - loss: 0.2156 - sparse_categorical_accuracy: 0.9270 - val_loss: 4.4916 - val_sparse_categorical_accuracy: 0.4380\n",
      "Epoch 59/100\n",
      "282/282 [==============================] - 2s 8ms/step - loss: 0.2449 - sparse_categorical_accuracy: 0.9138 - val_loss: 4.5303 - val_sparse_categorical_accuracy: 0.4360\n",
      "Epoch 60/100\n",
      "282/282 [==============================] - 2s 8ms/step - loss: 0.1729 - sparse_categorical_accuracy: 0.9408 - val_loss: 4.4566 - val_sparse_categorical_accuracy: 0.4490\n",
      "Epoch 61/100\n",
      "282/282 [==============================] - 2s 8ms/step - loss: 0.1520 - sparse_categorical_accuracy: 0.9501 - val_loss: 4.5586 - val_sparse_categorical_accuracy: 0.4320\n",
      "Epoch 62/100\n",
      "282/282 [==============================] - 2s 8ms/step - loss: 0.2683 - sparse_categorical_accuracy: 0.9091 - val_loss: 4.6432 - val_sparse_categorical_accuracy: 0.3940\n",
      "Epoch 63/100\n",
      "282/282 [==============================] - 2s 8ms/step - loss: 0.3104 - sparse_categorical_accuracy: 0.8966 - val_loss: 4.3280 - val_sparse_categorical_accuracy: 0.4260\n",
      "Epoch 64/100\n",
      "282/282 [==============================] - 2s 8ms/step - loss: 0.1714 - sparse_categorical_accuracy: 0.9403 - val_loss: 4.7588 - val_sparse_categorical_accuracy: 0.4300\n",
      "Epoch 65/100\n",
      "282/282 [==============================] - 2s 8ms/step - loss: 0.2008 - sparse_categorical_accuracy: 0.9328 - val_loss: 4.8093 - val_sparse_categorical_accuracy: 0.4280\n",
      "Epoch 66/100\n",
      "282/282 [==============================] - 2s 8ms/step - loss: 0.1136 - sparse_categorical_accuracy: 0.9614 - val_loss: 4.7793 - val_sparse_categorical_accuracy: 0.4280\n",
      "Epoch 67/100\n",
      "282/282 [==============================] - 2s 8ms/step - loss: 0.1929 - sparse_categorical_accuracy: 0.9358 - val_loss: 4.8901 - val_sparse_categorical_accuracy: 0.4430\n",
      "Epoch 68/100\n",
      "282/282 [==============================] - 2s 8ms/step - loss: 0.1741 - sparse_categorical_accuracy: 0.9410 - val_loss: 4.9224 - val_sparse_categorical_accuracy: 0.4430\n",
      "Epoch 69/100\n",
      "282/282 [==============================] - 2s 8ms/step - loss: 0.3080 - sparse_categorical_accuracy: 0.8992 - val_loss: 4.9116 - val_sparse_categorical_accuracy: 0.3930\n",
      "Epoch 70/100\n",
      "282/282 [==============================] - 2s 8ms/step - loss: 0.1941 - sparse_categorical_accuracy: 0.9344 - val_loss: 5.1291 - val_sparse_categorical_accuracy: 0.4190\n",
      "Epoch 71/100\n",
      "282/282 [==============================] - 2s 8ms/step - loss: 0.0950 - sparse_categorical_accuracy: 0.9687 - val_loss: 5.1648 - val_sparse_categorical_accuracy: 0.4150\n",
      "Epoch 72/100\n",
      "282/282 [==============================] - 2s 8ms/step - loss: 0.2139 - sparse_categorical_accuracy: 0.9262 - val_loss: 5.5546 - val_sparse_categorical_accuracy: 0.4140\n",
      "Epoch 73/100\n",
      "282/282 [==============================] - 2s 8ms/step - loss: 0.1533 - sparse_categorical_accuracy: 0.9463 - val_loss: 5.3963 - val_sparse_categorical_accuracy: 0.4390\n",
      "Epoch 74/100\n",
      "282/282 [==============================] - 2s 8ms/step - loss: 0.1670 - sparse_categorical_accuracy: 0.9422 - val_loss: 5.5432 - val_sparse_categorical_accuracy: 0.4200\n",
      "Epoch 75/100\n",
      "282/282 [==============================] - 2s 8ms/step - loss: 0.1933 - sparse_categorical_accuracy: 0.9360 - val_loss: 5.4013 - val_sparse_categorical_accuracy: 0.4000\n",
      "Epoch 76/100\n",
      "282/282 [==============================] - 2s 8ms/step - loss: 0.1583 - sparse_categorical_accuracy: 0.9470 - val_loss: 5.5628 - val_sparse_categorical_accuracy: 0.4170\n",
      "Epoch 77/100\n",
      "282/282 [==============================] - 2s 8ms/step - loss: 0.1374 - sparse_categorical_accuracy: 0.9553 - val_loss: 5.6514 - val_sparse_categorical_accuracy: 0.4260\n",
      "Epoch 78/100\n",
      "282/282 [==============================] - 2s 8ms/step - loss: 0.2295 - sparse_categorical_accuracy: 0.9282 - val_loss: 5.5664 - val_sparse_categorical_accuracy: 0.4190\n",
      "Epoch 79/100\n",
      "282/282 [==============================] - 2s 8ms/step - loss: 0.2904 - sparse_categorical_accuracy: 0.9078 - val_loss: 5.5391 - val_sparse_categorical_accuracy: 0.4260\n",
      "Epoch 80/100\n",
      "282/282 [==============================] - 2s 8ms/step - loss: 0.0991 - sparse_categorical_accuracy: 0.9683 - val_loss: 5.4508 - val_sparse_categorical_accuracy: 0.4360\n",
      "Epoch 81/100\n",
      "282/282 [==============================] - 2s 8ms/step - loss: 0.1042 - sparse_categorical_accuracy: 0.9656 - val_loss: 5.7042 - val_sparse_categorical_accuracy: 0.4190\n",
      "Epoch 82/100\n",
      "282/282 [==============================] - 2s 8ms/step - loss: 0.1707 - sparse_categorical_accuracy: 0.9419 - val_loss: 5.8158 - val_sparse_categorical_accuracy: 0.4170\n",
      "Epoch 83/100\n",
      "282/282 [==============================] - 2s 8ms/step - loss: 0.2064 - sparse_categorical_accuracy: 0.9341 - val_loss: 5.6121 - val_sparse_categorical_accuracy: 0.4450\n",
      "Epoch 84/100\n",
      "282/282 [==============================] - 2s 8ms/step - loss: 0.1146 - sparse_categorical_accuracy: 0.9621 - val_loss: 5.6522 - val_sparse_categorical_accuracy: 0.4310\n",
      "Epoch 85/100\n",
      "282/282 [==============================] - 2s 8ms/step - loss: 0.1213 - sparse_categorical_accuracy: 0.9588 - val_loss: 5.8563 - val_sparse_categorical_accuracy: 0.4320\n",
      "Epoch 86/100\n",
      "282/282 [==============================] - 2s 8ms/step - loss: 0.1696 - sparse_categorical_accuracy: 0.9436 - val_loss: 5.6532 - val_sparse_categorical_accuracy: 0.4410\n",
      "Epoch 87/100\n",
      "282/282 [==============================] - 2s 8ms/step - loss: 0.1162 - sparse_categorical_accuracy: 0.9617 - val_loss: 5.9604 - val_sparse_categorical_accuracy: 0.4310\n",
      "Epoch 88/100\n",
      "282/282 [==============================] - 2s 8ms/step - loss: 0.2840 - sparse_categorical_accuracy: 0.9114 - val_loss: 5.6656 - val_sparse_categorical_accuracy: 0.4150\n",
      "Epoch 89/100\n",
      "282/282 [==============================] - 2s 8ms/step - loss: 0.1452 - sparse_categorical_accuracy: 0.9540 - val_loss: 5.7267 - val_sparse_categorical_accuracy: 0.4220\n",
      "Epoch 90/100\n",
      "282/282 [==============================] - 2s 8ms/step - loss: 0.1050 - sparse_categorical_accuracy: 0.9658 - val_loss: 6.5128 - val_sparse_categorical_accuracy: 0.4210\n",
      "Epoch 91/100\n",
      "282/282 [==============================] - 2s 8ms/step - loss: 0.1324 - sparse_categorical_accuracy: 0.9552 - val_loss: 6.1427 - val_sparse_categorical_accuracy: 0.4360\n",
      "Epoch 92/100\n",
      "282/282 [==============================] - 2s 8ms/step - loss: 0.1142 - sparse_categorical_accuracy: 0.9618 - val_loss: 6.1720 - val_sparse_categorical_accuracy: 0.4210\n",
      "Epoch 93/100\n",
      "282/282 [==============================] - 2s 8ms/step - loss: 0.2024 - sparse_categorical_accuracy: 0.9313 - val_loss: 6.1451 - val_sparse_categorical_accuracy: 0.4160\n",
      "Epoch 94/100\n",
      "282/282 [==============================] - 2s 8ms/step - loss: 0.1726 - sparse_categorical_accuracy: 0.9430 - val_loss: 6.2597 - val_sparse_categorical_accuracy: 0.4290\n",
      "Epoch 95/100\n",
      "282/282 [==============================] - 2s 8ms/step - loss: 0.1687 - sparse_categorical_accuracy: 0.9466 - val_loss: 6.1585 - val_sparse_categorical_accuracy: 0.4270\n",
      "Epoch 96/100\n",
      "282/282 [==============================] - 2s 8ms/step - loss: 0.0657 - sparse_categorical_accuracy: 0.9780 - val_loss: 6.2572 - val_sparse_categorical_accuracy: 0.4360\n",
      "Epoch 97/100\n",
      "282/282 [==============================] - 2s 8ms/step - loss: 0.0739 - sparse_categorical_accuracy: 0.9754 - val_loss: 6.3908 - val_sparse_categorical_accuracy: 0.4330\n",
      "Epoch 98/100\n",
      "282/282 [==============================] - 2s 8ms/step - loss: 0.2028 - sparse_categorical_accuracy: 0.9371 - val_loss: 5.9585 - val_sparse_categorical_accuracy: 0.4220\n",
      "Epoch 99/100\n",
      "282/282 [==============================] - 2s 8ms/step - loss: 0.2065 - sparse_categorical_accuracy: 0.9338 - val_loss: 6.0943 - val_sparse_categorical_accuracy: 0.4250\n",
      "Epoch 100/100\n",
      "282/282 [==============================] - 2s 8ms/step - loss: 0.1048 - sparse_categorical_accuracy: 0.9628 - val_loss: 6.3272 - val_sparse_categorical_accuracy: 0.4280\n"
     ]
    }
   ],
   "source": [
    "start = timer()\n",
    "nn_log = nn_model.fit(reshaped_train_data, train_labels, epochs=100, validation_split=0.1, verbose=1)\n",
    "end = timer()"
   ]
  },
  {
   "cell_type": "code",
   "execution_count": null,
   "metadata": {
    "colab": {
     "base_uri": "https://localhost:8080/"
    },
    "id": "ZC_5s0ZhU8Jg",
    "outputId": "16032243-e67b-4365-e09f-2f8eea829819"
   },
   "outputs": [
    {
     "name": "stdout",
     "output_type": "stream",
     "text": [
      "237.72181586100032 seconds training time.\n"
     ]
    }
   ],
   "source": [
    "time_taken = end - start\n",
    "print(time_taken, \"seconds training time.\")"
   ]
  },
  {
   "cell_type": "code",
   "execution_count": null,
   "metadata": {
    "colab": {
     "base_uri": "https://localhost:8080/"
    },
    "id": "GGs7bjLGrit6",
    "outputId": "dc7d5167-ccaf-446c-98d1-d7dbcce6c341"
   },
   "outputs": [
    {
     "name": "stdout",
     "output_type": "stream",
     "text": [
      "32/32 [==============================] - 0s 3ms/step - loss: 6.1901 - sparse_categorical_accuracy: 0.4150\n"
     ]
    },
    {
     "data": {
      "text/plain": [
       "[6.190061092376709, 0.41499999165534973]"
      ]
     },
     "execution_count": 51,
     "metadata": {
      "tags": []
     },
     "output_type": "execute_result"
    }
   ],
   "source": [
    "nn_model.evaluate(reshaped_test_data, test_labels)"
   ]
  },
  {
   "cell_type": "code",
   "execution_count": null,
   "metadata": {
    "colab": {
     "base_uri": "https://localhost:8080/",
     "height": 297
    },
    "id": "LoyyU9fL86_a",
    "outputId": "92abaf08-dd62-49b2-e74c-f2a37f1877d6"
   },
   "outputs": [
    {
     "data": {
      "image/png": "[encoded data removed]",
      "text/plain": [
       "<Figure size 432x288 with 2 Axes>"
      ]
     },
     "metadata": {
      "needs_background": "light",
      "tags": []
     },
     "output_type": "display_data"
    }
   ],
   "source": [
    "plt.figure()\n",
    "plt.subplot(1, 2, 1)\n",
    "plt.plot(nn_log.history['sparse_categorical_accuracy'])\n",
    "plt.plot(nn_log.history['val_sparse_categorical_accuracy'])\n",
    "plt.xlabel('Epoch')\n",
    "plt.ylabel('Accuracy')\n",
    "plt.legend(['Training Accuracy',\n",
    "           'Validation Accuracy'])\n",
    "plt.title('Accuracy Curves')\n",
    "\n",
    "plt.subplot(1, 2, 2)\n",
    "plt.plot(nn_log.history['loss'])\n",
    "plt.plot(nn_log.history['val_loss'])\n",
    "plt.xlabel('Epoch')\n",
    "plt.ylabel('Loss')\n",
    "plt.legend(['Training Loss',\n",
    "           'Validation Loss'])\n",
    "plt.title('Loss Curves')\n",
    "\n",
    "plt.tight_layout()\n",
    "plt.show()"
   ]
  },
  {
   "cell_type": "code",
   "execution_count": null,
   "metadata": {
    "id": "3eCOpA8X96uc"
   },
   "outputs": [],
   "source": [
    "predictions = np.argmax(nn_model.predict(reshaped_test_data), axis=-1)"
   ]
  },
  {
   "cell_type": "code",
   "execution_count": null,
   "metadata": {
    "id": "PGbZLcsjA5DF"
   },
   "outputs": [],
   "source": [
    "cm = confusion_matrix(test_labels, predictions)"
   ]
  },
  {
   "cell_type": "code",
   "execution_count": null,
   "metadata": {
    "colab": {
     "base_uri": "https://localhost:8080/",
     "height": 348
    },
    "id": "0V1T4VxqDWeX",
    "outputId": "077bafc6-dcfd-4758-d7a7-921d41036f2d"
   },
   "outputs": [
    {
     "name": "stdout",
     "output_type": "stream",
     "text": [
      "Confusion matrix for MLP NN\n"
     ]
    },
    {
     "data": {
      "text/plain": [
       "<matplotlib.axes._subplots.AxesSubplot at 0x7f98e48d7ef0>"
      ]
     },
     "execution_count": 55,
     "metadata": {
      "tags": []
     },
     "output_type": "execute_result"
    },
    {
     "data": {
      "image/png": "[encoded data removed]",
      "text/plain": [
       "<Figure size 432x288 with 2 Axes>"
      ]
     },
     "metadata": {
      "needs_background": "light",
      "tags": []
     },
     "output_type": "display_data"
    }
   ],
   "source": [
    "print(\"Confusion matrix for MLP NN\")\n",
    "sns.heatmap(cm, annot=True, xticklabels=class_labels, \n",
    "            yticklabels=class_labels)"
   ]
  },
  {
   "cell_type": "code",
   "execution_count": null,
   "metadata": {
    "colab": {
     "base_uri": "https://localhost:8080/"
    },
    "id": "zs7x8urmJKQL",
    "outputId": "912e446a-c452-4d3b-b217-1789a23e5a43"
   },
   "outputs": [
    {
     "name": "stdout",
     "output_type": "stream",
     "text": [
      "              precision    recall  f1-score   support\n",
      "\n",
      "           0       0.47      0.45      0.46       100\n",
      "           1       0.56      0.53      0.54       100\n",
      "           2       0.32      0.29      0.30       100\n",
      "           3       0.30      0.29      0.29       100\n",
      "           4       0.32      0.37      0.35       100\n",
      "           5       0.30      0.39      0.34       100\n",
      "           6       0.43      0.42      0.42       100\n",
      "           7       0.45      0.38      0.41       100\n",
      "           8       0.55      0.63      0.59       100\n",
      "           9       0.49      0.40      0.44       100\n",
      "\n",
      "    accuracy                           0.41      1000\n",
      "   macro avg       0.42      0.42      0.42      1000\n",
      "weighted avg       0.42      0.41      0.42      1000\n",
      "\n"
     ]
    }
   ],
   "source": [
    "print(classification_report(test_labels, predictions))"
   ]
  },
  {
   "cell_type": "markdown",
   "metadata": {
    "id": "837xIBhqS0yl"
   },
   "source": [
    "### HOG + Neural Network"
   ]
  },
  {
   "cell_type": "code",
   "execution_count": null,
   "metadata": {
    "id": "Vf3cocA9ZiHt"
   },
   "outputs": [],
   "source": [
    "nn_hog_model = tf.keras.Sequential(layers=[\n",
    "    tf.keras.layers.Dense(324, activation=tf.nn.relu),\n",
    "    tf.keras.layers.Dense(128, activation=tf.nn.relu),\n",
    "    tf.keras.layers.Dense(32, activation=tf.nn.relu),\n",
    "    tf.keras.layers.Dropout(0.5),\n",
    "    tf.keras.layers.Dense(10, activation=tf.nn.softmax)])"
   ]
  },
  {
   "cell_type": "code",
   "execution_count": null,
   "metadata": {
    "id": "dCT3XcIaaQzK"
   },
   "outputs": [],
   "source": [
    "nn_hog_model.compile(optimizer=tf.keras.optimizers.Adam(learning_rate=0.001), \n",
    "loss=tf.keras.losses.SparseCategoricalCrossentropy(), \n",
    "metrics=tf.keras.metrics.SparseCategoricalAccuracy())"
   ]
  },
  {
   "cell_type": "code",
   "execution_count": null,
   "metadata": {
    "colab": {
     "base_uri": "https://localhost:8080/"
    },
    "id": "pCm242uYaSQc",
    "outputId": "6dc606b6-2e3b-463e-8cbe-c97e08e7e6da"
   },
   "outputs": [
    {
     "name": "stdout",
     "output_type": "stream",
     "text": [
      "Epoch 1/100\n",
      "282/282 [==============================] - 1s 4ms/step - loss: 2.0312 - sparse_categorical_accuracy: 0.2454 - val_loss: 1.7714 - val_sparse_categorical_accuracy: 0.3680\n",
      "Epoch 2/100\n",
      "282/282 [==============================] - 1s 3ms/step - loss: 1.7685 - sparse_categorical_accuracy: 0.3604 - val_loss: 1.6197 - val_sparse_categorical_accuracy: 0.4410\n",
      "Epoch 3/100\n",
      "282/282 [==============================] - 1s 3ms/step - loss: 1.6646 - sparse_categorical_accuracy: 0.4061 - val_loss: 1.5353 - val_sparse_categorical_accuracy: 0.4790\n",
      "Epoch 4/100\n",
      "282/282 [==============================] - 1s 3ms/step - loss: 1.5806 - sparse_categorical_accuracy: 0.4388 - val_loss: 1.5056 - val_sparse_categorical_accuracy: 0.4920\n",
      "Epoch 5/100\n",
      "282/282 [==============================] - 1s 3ms/step - loss: 1.5111 - sparse_categorical_accuracy: 0.4713 - val_loss: 1.4539 - val_sparse_categorical_accuracy: 0.5000\n",
      "Epoch 6/100\n",
      "282/282 [==============================] - 1s 3ms/step - loss: 1.4585 - sparse_categorical_accuracy: 0.4906 - val_loss: 1.4597 - val_sparse_categorical_accuracy: 0.5010\n",
      "Epoch 7/100\n",
      "282/282 [==============================] - 1s 3ms/step - loss: 1.4038 - sparse_categorical_accuracy: 0.5137 - val_loss: 1.3876 - val_sparse_categorical_accuracy: 0.5180\n",
      "Epoch 8/100\n",
      "282/282 [==============================] - 1s 3ms/step - loss: 1.3781 - sparse_categorical_accuracy: 0.5292 - val_loss: 1.3758 - val_sparse_categorical_accuracy: 0.5330\n",
      "Epoch 9/100\n",
      "282/282 [==============================] - 1s 3ms/step - loss: 1.3177 - sparse_categorical_accuracy: 0.5447 - val_loss: 1.3421 - val_sparse_categorical_accuracy: 0.5480\n",
      "Epoch 10/100\n",
      "282/282 [==============================] - 1s 3ms/step - loss: 1.2682 - sparse_categorical_accuracy: 0.5652 - val_loss: 1.3616 - val_sparse_categorical_accuracy: 0.5300\n",
      "Epoch 11/100\n",
      "282/282 [==============================] - 1s 3ms/step - loss: 1.2214 - sparse_categorical_accuracy: 0.5786 - val_loss: 1.3604 - val_sparse_categorical_accuracy: 0.5390\n",
      "Epoch 12/100\n",
      "282/282 [==============================] - 1s 3ms/step - loss: 1.1689 - sparse_categorical_accuracy: 0.5993 - val_loss: 1.4114 - val_sparse_categorical_accuracy: 0.5440\n",
      "Epoch 13/100\n",
      "282/282 [==============================] - 1s 3ms/step - loss: 1.1321 - sparse_categorical_accuracy: 0.6088 - val_loss: 1.3657 - val_sparse_categorical_accuracy: 0.5450\n",
      "Epoch 14/100\n",
      "282/282 [==============================] - 1s 3ms/step - loss: 1.0910 - sparse_categorical_accuracy: 0.6281 - val_loss: 1.3773 - val_sparse_categorical_accuracy: 0.5610\n",
      "Epoch 15/100\n",
      "282/282 [==============================] - 1s 3ms/step - loss: 1.0544 - sparse_categorical_accuracy: 0.6387 - val_loss: 1.3981 - val_sparse_categorical_accuracy: 0.5460\n",
      "Epoch 16/100\n",
      "282/282 [==============================] - 1s 3ms/step - loss: 1.0153 - sparse_categorical_accuracy: 0.6506 - val_loss: 1.4304 - val_sparse_categorical_accuracy: 0.5410\n",
      "Epoch 17/100\n",
      "282/282 [==============================] - 1s 3ms/step - loss: 0.9709 - sparse_categorical_accuracy: 0.6658 - val_loss: 1.4387 - val_sparse_categorical_accuracy: 0.5670\n",
      "Epoch 18/100\n",
      "282/282 [==============================] - 1s 3ms/step - loss: 0.9321 - sparse_categorical_accuracy: 0.6816 - val_loss: 1.4821 - val_sparse_categorical_accuracy: 0.5480\n",
      "Epoch 19/100\n",
      "282/282 [==============================] - 1s 4ms/step - loss: 0.8744 - sparse_categorical_accuracy: 0.6959 - val_loss: 1.6042 - val_sparse_categorical_accuracy: 0.5220\n",
      "Epoch 20/100\n",
      "282/282 [==============================] - 1s 4ms/step - loss: 0.8524 - sparse_categorical_accuracy: 0.7050 - val_loss: 1.5160 - val_sparse_categorical_accuracy: 0.5460\n",
      "Epoch 21/100\n",
      "282/282 [==============================] - 1s 3ms/step - loss: 0.8062 - sparse_categorical_accuracy: 0.7224 - val_loss: 1.5821 - val_sparse_categorical_accuracy: 0.5290\n",
      "Epoch 22/100\n",
      "282/282 [==============================] - 1s 4ms/step - loss: 0.7621 - sparse_categorical_accuracy: 0.7398 - val_loss: 1.6296 - val_sparse_categorical_accuracy: 0.5340\n",
      "Epoch 23/100\n",
      "282/282 [==============================] - 1s 4ms/step - loss: 0.7240 - sparse_categorical_accuracy: 0.7530 - val_loss: 1.6467 - val_sparse_categorical_accuracy: 0.5470\n",
      "Epoch 24/100\n",
      "282/282 [==============================] - 1s 4ms/step - loss: 0.7079 - sparse_categorical_accuracy: 0.7561 - val_loss: 1.6638 - val_sparse_categorical_accuracy: 0.5450\n",
      "Epoch 25/100\n",
      "282/282 [==============================] - 1s 4ms/step - loss: 0.6412 - sparse_categorical_accuracy: 0.7790 - val_loss: 1.7005 - val_sparse_categorical_accuracy: 0.5400\n",
      "Epoch 26/100\n",
      "282/282 [==============================] - 1s 4ms/step - loss: 0.6417 - sparse_categorical_accuracy: 0.7761 - val_loss: 1.8211 - val_sparse_categorical_accuracy: 0.5250\n",
      "Epoch 27/100\n",
      "282/282 [==============================] - 1s 4ms/step - loss: 0.5944 - sparse_categorical_accuracy: 0.7920 - val_loss: 1.9792 - val_sparse_categorical_accuracy: 0.5470\n",
      "Epoch 28/100\n",
      "282/282 [==============================] - 1s 4ms/step - loss: 0.5593 - sparse_categorical_accuracy: 0.7982 - val_loss: 2.0395 - val_sparse_categorical_accuracy: 0.5490\n",
      "Epoch 29/100\n",
      "282/282 [==============================] - 1s 3ms/step - loss: 0.5424 - sparse_categorical_accuracy: 0.8108 - val_loss: 1.8751 - val_sparse_categorical_accuracy: 0.5430\n",
      "Epoch 30/100\n",
      "282/282 [==============================] - 1s 3ms/step - loss: 0.5277 - sparse_categorical_accuracy: 0.8176 - val_loss: 2.0087 - val_sparse_categorical_accuracy: 0.5450\n",
      "Epoch 31/100\n",
      "282/282 [==============================] - 1s 3ms/step - loss: 0.4878 - sparse_categorical_accuracy: 0.8312 - val_loss: 2.1215 - val_sparse_categorical_accuracy: 0.5430\n",
      "Epoch 32/100\n",
      "282/282 [==============================] - 1s 3ms/step - loss: 0.4629 - sparse_categorical_accuracy: 0.8407 - val_loss: 2.1372 - val_sparse_categorical_accuracy: 0.5470\n",
      "Epoch 33/100\n",
      "282/282 [==============================] - 1s 3ms/step - loss: 0.4453 - sparse_categorical_accuracy: 0.8467 - val_loss: 2.2301 - val_sparse_categorical_accuracy: 0.5450\n",
      "Epoch 34/100\n",
      "282/282 [==============================] - 1s 3ms/step - loss: 0.4141 - sparse_categorical_accuracy: 0.8568 - val_loss: 2.4476 - val_sparse_categorical_accuracy: 0.5530\n",
      "Epoch 35/100\n",
      "282/282 [==============================] - 1s 3ms/step - loss: 0.4201 - sparse_categorical_accuracy: 0.8553 - val_loss: 2.2746 - val_sparse_categorical_accuracy: 0.5470\n",
      "Epoch 36/100\n",
      "282/282 [==============================] - 1s 3ms/step - loss: 0.3812 - sparse_categorical_accuracy: 0.8694 - val_loss: 2.3443 - val_sparse_categorical_accuracy: 0.5490\n",
      "Epoch 37/100\n",
      "282/282 [==============================] - 1s 3ms/step - loss: 0.3517 - sparse_categorical_accuracy: 0.8791 - val_loss: 2.6812 - val_sparse_categorical_accuracy: 0.5260\n",
      "Epoch 38/100\n",
      "282/282 [==============================] - 1s 3ms/step - loss: 0.3527 - sparse_categorical_accuracy: 0.8757 - val_loss: 2.6105 - val_sparse_categorical_accuracy: 0.5600\n",
      "Epoch 39/100\n",
      "282/282 [==============================] - 1s 3ms/step - loss: 0.3198 - sparse_categorical_accuracy: 0.8924 - val_loss: 2.5133 - val_sparse_categorical_accuracy: 0.5270\n",
      "Epoch 40/100\n",
      "282/282 [==============================] - 1s 3ms/step - loss: 0.3226 - sparse_categorical_accuracy: 0.8899 - val_loss: 2.7080 - val_sparse_categorical_accuracy: 0.5210\n",
      "Epoch 41/100\n",
      "282/282 [==============================] - 1s 3ms/step - loss: 0.2880 - sparse_categorical_accuracy: 0.9036 - val_loss: 2.8236 - val_sparse_categorical_accuracy: 0.5310\n",
      "Epoch 42/100\n",
      "282/282 [==============================] - 1s 3ms/step - loss: 0.3073 - sparse_categorical_accuracy: 0.8939 - val_loss: 2.9645 - val_sparse_categorical_accuracy: 0.5240\n",
      "Epoch 43/100\n",
      "282/282 [==============================] - 1s 3ms/step - loss: 0.2759 - sparse_categorical_accuracy: 0.9018 - val_loss: 2.9343 - val_sparse_categorical_accuracy: 0.5240\n",
      "Epoch 44/100\n",
      "282/282 [==============================] - 1s 3ms/step - loss: 0.2725 - sparse_categorical_accuracy: 0.9058 - val_loss: 3.1407 - val_sparse_categorical_accuracy: 0.5210\n",
      "Epoch 45/100\n",
      "282/282 [==============================] - 1s 3ms/step - loss: 0.2781 - sparse_categorical_accuracy: 0.9083 - val_loss: 3.1098 - val_sparse_categorical_accuracy: 0.5300\n",
      "Epoch 46/100\n",
      "282/282 [==============================] - 1s 3ms/step - loss: 0.2507 - sparse_categorical_accuracy: 0.9190 - val_loss: 3.1849 - val_sparse_categorical_accuracy: 0.5430\n",
      "Epoch 47/100\n",
      "282/282 [==============================] - 1s 3ms/step - loss: 0.2330 - sparse_categorical_accuracy: 0.9236 - val_loss: 3.1987 - val_sparse_categorical_accuracy: 0.5350\n",
      "Epoch 48/100\n",
      "282/282 [==============================] - 1s 3ms/step - loss: 0.2132 - sparse_categorical_accuracy: 0.9276 - val_loss: 3.2222 - val_sparse_categorical_accuracy: 0.5520\n",
      "Epoch 49/100\n",
      "282/282 [==============================] - 1s 3ms/step - loss: 0.1971 - sparse_categorical_accuracy: 0.9313 - val_loss: 3.5688 - val_sparse_categorical_accuracy: 0.5260\n",
      "Epoch 50/100\n",
      "282/282 [==============================] - 1s 3ms/step - loss: 0.2219 - sparse_categorical_accuracy: 0.9272 - val_loss: 3.3244 - val_sparse_categorical_accuracy: 0.5260\n",
      "Epoch 51/100\n",
      "282/282 [==============================] - 1s 3ms/step - loss: 0.2024 - sparse_categorical_accuracy: 0.9329 - val_loss: 3.3693 - val_sparse_categorical_accuracy: 0.5470\n",
      "Epoch 52/100\n",
      "282/282 [==============================] - 1s 3ms/step - loss: 0.2227 - sparse_categorical_accuracy: 0.9254 - val_loss: 3.4679 - val_sparse_categorical_accuracy: 0.5330\n",
      "Epoch 53/100\n",
      "282/282 [==============================] - 1s 4ms/step - loss: 0.1792 - sparse_categorical_accuracy: 0.9396 - val_loss: 3.6144 - val_sparse_categorical_accuracy: 0.5120\n",
      "Epoch 54/100\n",
      "282/282 [==============================] - 1s 4ms/step - loss: 0.2103 - sparse_categorical_accuracy: 0.9303 - val_loss: 3.5750 - val_sparse_categorical_accuracy: 0.5450\n",
      "Epoch 55/100\n",
      "282/282 [==============================] - 1s 4ms/step - loss: 0.2081 - sparse_categorical_accuracy: 0.9308 - val_loss: 3.6298 - val_sparse_categorical_accuracy: 0.5290\n",
      "Epoch 56/100\n",
      "282/282 [==============================] - 1s 4ms/step - loss: 0.1737 - sparse_categorical_accuracy: 0.9429 - val_loss: 3.8034 - val_sparse_categorical_accuracy: 0.5400\n",
      "Epoch 57/100\n",
      "282/282 [==============================] - 1s 4ms/step - loss: 0.1975 - sparse_categorical_accuracy: 0.9337 - val_loss: 3.8636 - val_sparse_categorical_accuracy: 0.5280\n",
      "Epoch 58/100\n",
      "282/282 [==============================] - 1s 3ms/step - loss: 0.2175 - sparse_categorical_accuracy: 0.9306 - val_loss: 3.8212 - val_sparse_categorical_accuracy: 0.5160\n",
      "Epoch 59/100\n",
      "282/282 [==============================] - 1s 3ms/step - loss: 0.1684 - sparse_categorical_accuracy: 0.9491 - val_loss: 3.8197 - val_sparse_categorical_accuracy: 0.5360\n",
      "Epoch 60/100\n",
      "282/282 [==============================] - 1s 3ms/step - loss: 0.1386 - sparse_categorical_accuracy: 0.9531 - val_loss: 3.9055 - val_sparse_categorical_accuracy: 0.5340\n",
      "Epoch 61/100\n",
      "282/282 [==============================] - 1s 3ms/step - loss: 0.1547 - sparse_categorical_accuracy: 0.9483 - val_loss: 4.1598 - val_sparse_categorical_accuracy: 0.5350\n",
      "Epoch 62/100\n",
      "282/282 [==============================] - 1s 3ms/step - loss: 0.1570 - sparse_categorical_accuracy: 0.9478 - val_loss: 3.8273 - val_sparse_categorical_accuracy: 0.5210\n",
      "Epoch 63/100\n",
      "282/282 [==============================] - 1s 3ms/step - loss: 0.1372 - sparse_categorical_accuracy: 0.9553 - val_loss: 3.9327 - val_sparse_categorical_accuracy: 0.5430\n",
      "Epoch 64/100\n",
      "282/282 [==============================] - 1s 3ms/step - loss: 0.1725 - sparse_categorical_accuracy: 0.9451 - val_loss: 3.8588 - val_sparse_categorical_accuracy: 0.5280\n",
      "Epoch 65/100\n",
      "282/282 [==============================] - 1s 3ms/step - loss: 0.1337 - sparse_categorical_accuracy: 0.9580 - val_loss: 3.9944 - val_sparse_categorical_accuracy: 0.5310\n",
      "Epoch 66/100\n",
      "282/282 [==============================] - 1s 3ms/step - loss: 0.1459 - sparse_categorical_accuracy: 0.9513 - val_loss: 4.2509 - val_sparse_categorical_accuracy: 0.5230\n",
      "Epoch 67/100\n",
      "282/282 [==============================] - 1s 3ms/step - loss: 0.1439 - sparse_categorical_accuracy: 0.9526 - val_loss: 3.9163 - val_sparse_categorical_accuracy: 0.5360\n",
      "Epoch 68/100\n",
      "282/282 [==============================] - 1s 3ms/step - loss: 0.1406 - sparse_categorical_accuracy: 0.9527 - val_loss: 4.3218 - val_sparse_categorical_accuracy: 0.5480\n",
      "Epoch 69/100\n",
      "282/282 [==============================] - 1s 3ms/step - loss: 0.0848 - sparse_categorical_accuracy: 0.9700 - val_loss: 4.3704 - val_sparse_categorical_accuracy: 0.5570\n",
      "Epoch 70/100\n",
      "282/282 [==============================] - 1s 3ms/step - loss: 0.2376 - sparse_categorical_accuracy: 0.9281 - val_loss: 4.1043 - val_sparse_categorical_accuracy: 0.5350\n",
      "Epoch 71/100\n",
      "282/282 [==============================] - 1s 3ms/step - loss: 0.1138 - sparse_categorical_accuracy: 0.9631 - val_loss: 4.1562 - val_sparse_categorical_accuracy: 0.5300\n",
      "Epoch 72/100\n",
      "282/282 [==============================] - 1s 3ms/step - loss: 0.1674 - sparse_categorical_accuracy: 0.9469 - val_loss: 4.1382 - val_sparse_categorical_accuracy: 0.5320\n",
      "Epoch 73/100\n",
      "282/282 [==============================] - 1s 3ms/step - loss: 0.1137 - sparse_categorical_accuracy: 0.9594 - val_loss: 4.5142 - val_sparse_categorical_accuracy: 0.5360\n",
      "Epoch 74/100\n",
      "282/282 [==============================] - 1s 3ms/step - loss: 0.1264 - sparse_categorical_accuracy: 0.9572 - val_loss: 4.6093 - val_sparse_categorical_accuracy: 0.5250\n",
      "Epoch 75/100\n",
      "282/282 [==============================] - 1s 3ms/step - loss: 0.1692 - sparse_categorical_accuracy: 0.9463 - val_loss: 4.0990 - val_sparse_categorical_accuracy: 0.5470\n",
      "Epoch 76/100\n",
      "282/282 [==============================] - 1s 3ms/step - loss: 0.1372 - sparse_categorical_accuracy: 0.9556 - val_loss: 4.4868 - val_sparse_categorical_accuracy: 0.5220\n",
      "Epoch 77/100\n",
      "282/282 [==============================] - 1s 3ms/step - loss: 0.1227 - sparse_categorical_accuracy: 0.9600 - val_loss: 4.3164 - val_sparse_categorical_accuracy: 0.5310\n",
      "Epoch 78/100\n",
      "282/282 [==============================] - 1s 3ms/step - loss: 0.1070 - sparse_categorical_accuracy: 0.9640 - val_loss: 4.3580 - val_sparse_categorical_accuracy: 0.5370\n",
      "Epoch 79/100\n",
      "282/282 [==============================] - 1s 3ms/step - loss: 0.1079 - sparse_categorical_accuracy: 0.9627 - val_loss: 4.6933 - val_sparse_categorical_accuracy: 0.5210\n",
      "Epoch 80/100\n",
      "282/282 [==============================] - 1s 3ms/step - loss: 0.1123 - sparse_categorical_accuracy: 0.9628 - val_loss: 4.5134 - val_sparse_categorical_accuracy: 0.5450\n",
      "Epoch 81/100\n",
      "282/282 [==============================] - 1s 3ms/step - loss: 0.0924 - sparse_categorical_accuracy: 0.9699 - val_loss: 4.8348 - val_sparse_categorical_accuracy: 0.5450\n",
      "Epoch 82/100\n",
      "282/282 [==============================] - 1s 3ms/step - loss: 0.0805 - sparse_categorical_accuracy: 0.9722 - val_loss: 4.9869 - val_sparse_categorical_accuracy: 0.5330\n",
      "Epoch 83/100\n",
      "282/282 [==============================] - 1s 3ms/step - loss: 0.1936 - sparse_categorical_accuracy: 0.9373 - val_loss: 4.5871 - val_sparse_categorical_accuracy: 0.5370\n",
      "Epoch 84/100\n",
      "282/282 [==============================] - 1s 3ms/step - loss: 0.1247 - sparse_categorical_accuracy: 0.9613 - val_loss: 4.5434 - val_sparse_categorical_accuracy: 0.5530\n",
      "Epoch 85/100\n",
      "282/282 [==============================] - 1s 3ms/step - loss: 0.1034 - sparse_categorical_accuracy: 0.9671 - val_loss: 4.7804 - val_sparse_categorical_accuracy: 0.5400\n",
      "Epoch 86/100\n",
      "282/282 [==============================] - 1s 3ms/step - loss: 0.1116 - sparse_categorical_accuracy: 0.9634 - val_loss: 4.7449 - val_sparse_categorical_accuracy: 0.5500\n",
      "Epoch 87/100\n",
      "282/282 [==============================] - 1s 3ms/step - loss: 0.1648 - sparse_categorical_accuracy: 0.9496 - val_loss: 4.6221 - val_sparse_categorical_accuracy: 0.5320\n",
      "Epoch 88/100\n",
      "282/282 [==============================] - 1s 3ms/step - loss: 0.0784 - sparse_categorical_accuracy: 0.9734 - val_loss: 5.0609 - val_sparse_categorical_accuracy: 0.5290\n",
      "Epoch 89/100\n",
      "282/282 [==============================] - 1s 3ms/step - loss: 0.0681 - sparse_categorical_accuracy: 0.9757 - val_loss: 5.3178 - val_sparse_categorical_accuracy: 0.5350\n",
      "Epoch 90/100\n",
      "282/282 [==============================] - 1s 3ms/step - loss: 0.1143 - sparse_categorical_accuracy: 0.9610 - val_loss: 4.8975 - val_sparse_categorical_accuracy: 0.5340\n",
      "Epoch 91/100\n",
      "282/282 [==============================] - 1s 3ms/step - loss: 0.1139 - sparse_categorical_accuracy: 0.9632 - val_loss: 4.8679 - val_sparse_categorical_accuracy: 0.5270\n",
      "Epoch 92/100\n",
      "282/282 [==============================] - 1s 3ms/step - loss: 0.1629 - sparse_categorical_accuracy: 0.9486 - val_loss: 4.3128 - val_sparse_categorical_accuracy: 0.5430\n",
      "Epoch 93/100\n",
      "282/282 [==============================] - 1s 3ms/step - loss: 0.1313 - sparse_categorical_accuracy: 0.9612 - val_loss: 4.5206 - val_sparse_categorical_accuracy: 0.5260\n",
      "Epoch 94/100\n",
      "282/282 [==============================] - 1s 3ms/step - loss: 0.0926 - sparse_categorical_accuracy: 0.9693 - val_loss: 4.8851 - val_sparse_categorical_accuracy: 0.5500\n",
      "Epoch 95/100\n",
      "282/282 [==============================] - 1s 3ms/step - loss: 0.0943 - sparse_categorical_accuracy: 0.9671 - val_loss: 4.8925 - val_sparse_categorical_accuracy: 0.5270\n",
      "Epoch 96/100\n",
      "282/282 [==============================] - 1s 3ms/step - loss: 0.1118 - sparse_categorical_accuracy: 0.9631 - val_loss: 4.8835 - val_sparse_categorical_accuracy: 0.5310\n",
      "Epoch 97/100\n",
      "282/282 [==============================] - 1s 3ms/step - loss: 0.0824 - sparse_categorical_accuracy: 0.9726 - val_loss: 5.4372 - val_sparse_categorical_accuracy: 0.5260\n",
      "Epoch 98/100\n",
      "282/282 [==============================] - 1s 3ms/step - loss: 0.1312 - sparse_categorical_accuracy: 0.9592 - val_loss: 5.1095 - val_sparse_categorical_accuracy: 0.5050\n",
      "Epoch 99/100\n",
      "282/282 [==============================] - 1s 3ms/step - loss: 0.1397 - sparse_categorical_accuracy: 0.9558 - val_loss: 4.7875 - val_sparse_categorical_accuracy: 0.5370\n",
      "Epoch 100/100\n",
      "282/282 [==============================] - 1s 3ms/step - loss: 0.0614 - sparse_categorical_accuracy: 0.9826 - val_loss: 5.0947 - val_sparse_categorical_accuracy: 0.5250\n"
     ]
    }
   ],
   "source": [
    "start = timer()\n",
    "nn_hog_log = nn_hog_model.fit(hog_train_data, train_labels, epochs=100, validation_split=0.1, verbose=1)\n",
    "end = timer()"
   ]
  },
  {
   "cell_type": "code",
   "execution_count": null,
   "metadata": {
    "colab": {
     "base_uri": "https://localhost:8080/"
    },
    "id": "Ib3JxKfLVk9k",
    "outputId": "876b4d5a-fca6-4c37-c30d-f3a266ee9872"
   },
   "outputs": [
    {
     "name": "stdout",
     "output_type": "stream",
     "text": [
      "96.55819325399989 seconds training time.\n"
     ]
    }
   ],
   "source": [
    "time_taken = end - start\n",
    "print(time_taken, \"seconds training time.\")"
   ]
  },
  {
   "cell_type": "code",
   "execution_count": null,
   "metadata": {
    "colab": {
     "base_uri": "https://localhost:8080/"
    },
    "id": "u3w1jDPSq0Xy",
    "outputId": "80488459-c694-42b9-e08d-bca16325eb69"
   },
   "outputs": [
    {
     "name": "stdout",
     "output_type": "stream",
     "text": [
      "32/32 [==============================] - 0s 2ms/step - loss: 4.9237 - sparse_categorical_accuracy: 0.5250\n"
     ]
    },
    {
     "data": {
      "text/plain": [
       "[4.923712730407715, 0.5249999761581421]"
      ]
     },
     "execution_count": 61,
     "metadata": {
      "tags": []
     },
     "output_type": "execute_result"
    }
   ],
   "source": [
    "nn_hog_model.evaluate(hog_test_data, test_labels)"
   ]
  },
  {
   "cell_type": "code",
   "execution_count": null,
   "metadata": {
    "colab": {
     "base_uri": "https://localhost:8080/",
     "height": 297
    },
    "id": "4deSnzaM9AOZ",
    "outputId": "abcf2425-0b8b-469d-87af-e25d72547a33"
   },
   "outputs": [
    {
     "data": {
      "image/png": "[encoded data removed]",
      "text/plain": [
       "<Figure size 432x288 with 2 Axes>"
      ]
     },
     "metadata": {
      "needs_background": "light",
      "tags": []
     },
     "output_type": "display_data"
    }
   ],
   "source": [
    "plt.figure()\n",
    "plt.subplot(1, 2, 1)\n",
    "plt.plot(nn_hog_log.history['sparse_categorical_accuracy'])\n",
    "plt.plot(nn_hog_log.history['val_sparse_categorical_accuracy'])\n",
    "plt.xlabel('Epoch')\n",
    "plt.ylabel('Accuracy')\n",
    "plt.legend(['Training Accuracy',\n",
    "           'Validation Accuracy'])\n",
    "plt.title('Accuracy Curves')\n",
    "\n",
    "plt.subplot(1, 2, 2)\n",
    "plt.plot(nn_hog_log.history['loss'])\n",
    "plt.plot(nn_hog_log.history['val_loss'])\n",
    "plt.xlabel('Epoch')\n",
    "plt.ylabel('Loss')\n",
    "plt.legend(['Training Loss',\n",
    "           'Validation Loss'])\n",
    "plt.title('Loss Curves')\n",
    "\n",
    "plt.tight_layout()\n",
    "plt.show()"
   ]
  },
  {
   "cell_type": "code",
   "execution_count": null,
   "metadata": {
    "id": "xfzIjUV2GiCr"
   },
   "outputs": [],
   "source": [
    "predictions = np.argmax(nn_hog_model.predict(hog_test_data), axis=-1)"
   ]
  },
  {
   "cell_type": "code",
   "execution_count": null,
   "metadata": {
    "id": "Ictn8WeDGnxy"
   },
   "outputs": [],
   "source": [
    "cm = confusion_matrix(test_labels, predictions)"
   ]
  },
  {
   "cell_type": "code",
   "execution_count": null,
   "metadata": {
    "colab": {
     "base_uri": "https://localhost:8080/",
     "height": 349
    },
    "id": "XdhZxhuEGogX",
    "outputId": "a19e9f5e-bfa5-4112-a675-d4f51834c550"
   },
   "outputs": [
    {
     "name": "stdout",
     "output_type": "stream",
     "text": [
      "Confusion matrix for HOG + MLP NN\n"
     ]
    },
    {
     "data": {
      "text/plain": [
       "<matplotlib.axes._subplots.AxesSubplot at 0x7f98e0082d30>"
      ]
     },
     "execution_count": 65,
     "metadata": {
      "tags": []
     },
     "output_type": "execute_result"
    },
    {
     "data": {
      "image/png": "[encoded data removed]",
      "text/plain": [
       "<Figure size 432x288 with 2 Axes>"
      ]
     },
     "metadata": {
      "needs_background": "light",
      "tags": []
     },
     "output_type": "display_data"
    }
   ],
   "source": [
    "print(\"Confusion matrix for HOG + MLP NN\")\n",
    "sns.heatmap(cm, annot=True, xticklabels=class_labels, \n",
    "            yticklabels=class_labels)"
   ]
  },
  {
   "cell_type": "code",
   "execution_count": null,
   "metadata": {
    "colab": {
     "base_uri": "https://localhost:8080/"
    },
    "id": "FLV16_9EJMIz",
    "outputId": "0740482c-8213-42b6-ab3b-40fcbb5f0421"
   },
   "outputs": [
    {
     "name": "stdout",
     "output_type": "stream",
     "text": [
      "              precision    recall  f1-score   support\n",
      "\n",
      "           0       0.57      0.59      0.58       100\n",
      "           1       0.59      0.61      0.60       100\n",
      "           2       0.32      0.47      0.38       100\n",
      "           3       0.37      0.40      0.38       100\n",
      "           4       0.55      0.47      0.51       100\n",
      "           5       0.46      0.52      0.49       100\n",
      "           6       0.64      0.56      0.60       100\n",
      "           7       0.66      0.55      0.60       100\n",
      "           8       0.59      0.47      0.52       100\n",
      "           9       0.68      0.61      0.64       100\n",
      "\n",
      "    accuracy                           0.53      1000\n",
      "   macro avg       0.54      0.53      0.53      1000\n",
      "weighted avg       0.54      0.53      0.53      1000\n",
      "\n"
     ]
    }
   ],
   "source": [
    "print(classification_report(test_labels, predictions))"
   ]
  },
  {
   "cell_type": "markdown",
   "metadata": {
    "id": "PUQrAeVyS4Nc"
   },
   "source": [
    "### LDA + Neural Network"
   ]
  },
  {
   "cell_type": "code",
   "execution_count": null,
   "metadata": {
    "id": "YMr_vZPzauxg"
   },
   "outputs": [],
   "source": [
    "nn_lda_model = tf.keras.Sequential(layers=[\n",
    "    tf.keras.layers.Dense(9, activation=tf.nn.relu),\n",
    "    tf.keras.layers.Dense(7, activation=tf.nn.relu),\n",
    "    tf.keras.layers.Dense(5, activation=tf.nn.relu),\n",
    "    tf.keras.layers.Dropout(0.5),\n",
    "    tf.keras.layers.Dense(10, activation=tf.nn.softmax)])"
   ]
  },
  {
   "cell_type": "code",
   "execution_count": null,
   "metadata": {
    "id": "c6f78xNnb40j"
   },
   "outputs": [],
   "source": [
    "nn_lda_model.compile(optimizer=tf.keras.optimizers.Adam(learning_rate=0.001), \n",
    "loss=tf.keras.losses.SparseCategoricalCrossentropy(), \n",
    "metrics=tf.keras.metrics.SparseCategoricalAccuracy())"
   ]
  },
  {
   "cell_type": "code",
   "execution_count": null,
   "metadata": {
    "colab": {
     "base_uri": "https://localhost:8080/"
    },
    "id": "bGJw0WsMb62t",
    "outputId": "237a9064-d749-47f6-9dd0-2ca0512f15cb"
   },
   "outputs": [
    {
     "name": "stdout",
     "output_type": "stream",
     "text": [
      "Epoch 1/100\n",
      "282/282 [==============================] - 1s 4ms/step - loss: 2.2810 - sparse_categorical_accuracy: 0.1654 - val_loss: 2.0712 - val_sparse_categorical_accuracy: 0.3080\n",
      "Epoch 2/100\n",
      "282/282 [==============================] - 1s 3ms/step - loss: 2.0740 - sparse_categorical_accuracy: 0.2210 - val_loss: 1.8856 - val_sparse_categorical_accuracy: 0.3880\n",
      "Epoch 3/100\n",
      "282/282 [==============================] - 1s 3ms/step - loss: 1.9911 - sparse_categorical_accuracy: 0.2402 - val_loss: 1.7477 - val_sparse_categorical_accuracy: 0.5050\n",
      "Epoch 4/100\n",
      "282/282 [==============================] - 1s 3ms/step - loss: 1.9175 - sparse_categorical_accuracy: 0.2674 - val_loss: 1.6404 - val_sparse_categorical_accuracy: 0.5510\n",
      "Epoch 5/100\n",
      "282/282 [==============================] - 1s 3ms/step - loss: 1.8494 - sparse_categorical_accuracy: 0.2930 - val_loss: 1.5683 - val_sparse_categorical_accuracy: 0.5720\n",
      "Epoch 6/100\n",
      "282/282 [==============================] - 1s 3ms/step - loss: 1.8423 - sparse_categorical_accuracy: 0.2946 - val_loss: 1.5234 - val_sparse_categorical_accuracy: 0.5720\n",
      "Epoch 7/100\n",
      "282/282 [==============================] - 1s 3ms/step - loss: 1.8268 - sparse_categorical_accuracy: 0.2903 - val_loss: 1.4908 - val_sparse_categorical_accuracy: 0.5790\n",
      "Epoch 8/100\n",
      "282/282 [==============================] - 1s 3ms/step - loss: 1.8004 - sparse_categorical_accuracy: 0.3007 - val_loss: 1.4667 - val_sparse_categorical_accuracy: 0.5830\n",
      "Epoch 9/100\n",
      "282/282 [==============================] - 1s 3ms/step - loss: 1.7866 - sparse_categorical_accuracy: 0.3040 - val_loss: 1.4507 - val_sparse_categorical_accuracy: 0.5750\n",
      "Epoch 10/100\n",
      "282/282 [==============================] - 1s 3ms/step - loss: 1.7684 - sparse_categorical_accuracy: 0.3046 - val_loss: 1.4375 - val_sparse_categorical_accuracy: 0.5730\n",
      "Epoch 11/100\n",
      "282/282 [==============================] - 1s 3ms/step - loss: 1.7591 - sparse_categorical_accuracy: 0.3129 - val_loss: 1.4209 - val_sparse_categorical_accuracy: 0.5780\n",
      "Epoch 12/100\n",
      "282/282 [==============================] - 1s 3ms/step - loss: 1.7480 - sparse_categorical_accuracy: 0.3141 - val_loss: 1.4074 - val_sparse_categorical_accuracy: 0.5870\n",
      "Epoch 13/100\n",
      "282/282 [==============================] - 1s 3ms/step - loss: 1.7579 - sparse_categorical_accuracy: 0.3072 - val_loss: 1.4122 - val_sparse_categorical_accuracy: 0.5790\n",
      "Epoch 14/100\n",
      "282/282 [==============================] - 1s 3ms/step - loss: 1.7544 - sparse_categorical_accuracy: 0.3133 - val_loss: 1.4006 - val_sparse_categorical_accuracy: 0.5820\n",
      "Epoch 15/100\n",
      "282/282 [==============================] - 1s 3ms/step - loss: 1.7482 - sparse_categorical_accuracy: 0.3158 - val_loss: 1.4013 - val_sparse_categorical_accuracy: 0.5870\n",
      "Epoch 16/100\n",
      "282/282 [==============================] - 1s 3ms/step - loss: 1.7417 - sparse_categorical_accuracy: 0.3116 - val_loss: 1.3931 - val_sparse_categorical_accuracy: 0.5860\n",
      "Epoch 17/100\n",
      "282/282 [==============================] - 1s 3ms/step - loss: 1.7320 - sparse_categorical_accuracy: 0.3169 - val_loss: 1.3760 - val_sparse_categorical_accuracy: 0.5870\n",
      "Epoch 18/100\n",
      "282/282 [==============================] - 1s 3ms/step - loss: 1.7282 - sparse_categorical_accuracy: 0.3186 - val_loss: 1.3589 - val_sparse_categorical_accuracy: 0.5960\n",
      "Epoch 19/100\n",
      "282/282 [==============================] - 1s 3ms/step - loss: 1.7262 - sparse_categorical_accuracy: 0.3254 - val_loss: 1.3516 - val_sparse_categorical_accuracy: 0.6050\n",
      "Epoch 20/100\n",
      "282/282 [==============================] - 1s 3ms/step - loss: 1.7096 - sparse_categorical_accuracy: 0.3291 - val_loss: 1.3399 - val_sparse_categorical_accuracy: 0.6070\n",
      "Epoch 21/100\n",
      "282/282 [==============================] - 1s 3ms/step - loss: 1.7197 - sparse_categorical_accuracy: 0.3214 - val_loss: 1.3289 - val_sparse_categorical_accuracy: 0.6040\n",
      "Epoch 22/100\n",
      "282/282 [==============================] - 1s 3ms/step - loss: 1.7028 - sparse_categorical_accuracy: 0.3274 - val_loss: 1.3259 - val_sparse_categorical_accuracy: 0.6120\n",
      "Epoch 23/100\n",
      "282/282 [==============================] - 1s 3ms/step - loss: 1.7116 - sparse_categorical_accuracy: 0.3259 - val_loss: 1.3260 - val_sparse_categorical_accuracy: 0.6170\n",
      "Epoch 24/100\n",
      "282/282 [==============================] - 1s 3ms/step - loss: 1.7053 - sparse_categorical_accuracy: 0.3339 - val_loss: 1.3095 - val_sparse_categorical_accuracy: 0.6140\n",
      "Epoch 25/100\n",
      "282/282 [==============================] - 1s 3ms/step - loss: 1.6740 - sparse_categorical_accuracy: 0.3462 - val_loss: 1.2989 - val_sparse_categorical_accuracy: 0.6240\n",
      "Epoch 26/100\n",
      "282/282 [==============================] - 1s 3ms/step - loss: 1.7105 - sparse_categorical_accuracy: 0.3306 - val_loss: 1.3084 - val_sparse_categorical_accuracy: 0.6310\n",
      "Epoch 27/100\n",
      "282/282 [==============================] - 1s 3ms/step - loss: 1.6800 - sparse_categorical_accuracy: 0.3432 - val_loss: 1.2920 - val_sparse_categorical_accuracy: 0.6360\n",
      "Epoch 28/100\n",
      "282/282 [==============================] - 1s 3ms/step - loss: 1.6853 - sparse_categorical_accuracy: 0.3411 - val_loss: 1.2876 - val_sparse_categorical_accuracy: 0.6360\n",
      "Epoch 29/100\n",
      "282/282 [==============================] - 1s 3ms/step - loss: 1.6895 - sparse_categorical_accuracy: 0.3428 - val_loss: 1.2863 - val_sparse_categorical_accuracy: 0.6370\n",
      "Epoch 30/100\n",
      "282/282 [==============================] - 1s 3ms/step - loss: 1.6812 - sparse_categorical_accuracy: 0.3472 - val_loss: 1.2766 - val_sparse_categorical_accuracy: 0.6440\n",
      "Epoch 31/100\n",
      "282/282 [==============================] - 1s 3ms/step - loss: 1.6769 - sparse_categorical_accuracy: 0.3472 - val_loss: 1.2790 - val_sparse_categorical_accuracy: 0.6460\n",
      "Epoch 32/100\n",
      "282/282 [==============================] - 1s 3ms/step - loss: 1.6793 - sparse_categorical_accuracy: 0.3470 - val_loss: 1.2718 - val_sparse_categorical_accuracy: 0.6500\n",
      "Epoch 33/100\n",
      "282/282 [==============================] - 1s 3ms/step - loss: 1.6739 - sparse_categorical_accuracy: 0.3567 - val_loss: 1.2693 - val_sparse_categorical_accuracy: 0.6510\n",
      "Epoch 34/100\n",
      "282/282 [==============================] - 1s 3ms/step - loss: 1.6732 - sparse_categorical_accuracy: 0.3532 - val_loss: 1.2647 - val_sparse_categorical_accuracy: 0.6540\n",
      "Epoch 35/100\n",
      "282/282 [==============================] - 1s 3ms/step - loss: 1.6796 - sparse_categorical_accuracy: 0.3556 - val_loss: 1.2647 - val_sparse_categorical_accuracy: 0.6540\n",
      "Epoch 36/100\n",
      "282/282 [==============================] - 1s 3ms/step - loss: 1.6660 - sparse_categorical_accuracy: 0.3588 - val_loss: 1.2577 - val_sparse_categorical_accuracy: 0.6520\n",
      "Epoch 37/100\n",
      "282/282 [==============================] - 1s 3ms/step - loss: 1.6832 - sparse_categorical_accuracy: 0.3500 - val_loss: 1.2682 - val_sparse_categorical_accuracy: 0.6510\n",
      "Epoch 38/100\n",
      "282/282 [==============================] - 1s 3ms/step - loss: 1.6772 - sparse_categorical_accuracy: 0.3536 - val_loss: 1.2584 - val_sparse_categorical_accuracy: 0.6600\n",
      "Epoch 39/100\n",
      "282/282 [==============================] - 1s 3ms/step - loss: 1.6633 - sparse_categorical_accuracy: 0.3553 - val_loss: 1.2583 - val_sparse_categorical_accuracy: 0.6560\n",
      "Epoch 40/100\n",
      "282/282 [==============================] - 1s 3ms/step - loss: 1.6680 - sparse_categorical_accuracy: 0.3596 - val_loss: 1.2536 - val_sparse_categorical_accuracy: 0.6630\n",
      "Epoch 41/100\n",
      "282/282 [==============================] - 1s 3ms/step - loss: 1.6727 - sparse_categorical_accuracy: 0.3630 - val_loss: 1.2498 - val_sparse_categorical_accuracy: 0.6700\n",
      "Epoch 42/100\n",
      "282/282 [==============================] - 1s 3ms/step - loss: 1.6634 - sparse_categorical_accuracy: 0.3630 - val_loss: 1.2545 - val_sparse_categorical_accuracy: 0.6620\n",
      "Epoch 43/100\n",
      "282/282 [==============================] - 1s 3ms/step - loss: 1.6688 - sparse_categorical_accuracy: 0.3579 - val_loss: 1.2463 - val_sparse_categorical_accuracy: 0.6650\n",
      "Epoch 44/100\n",
      "282/282 [==============================] - 1s 3ms/step - loss: 1.6581 - sparse_categorical_accuracy: 0.3622 - val_loss: 1.2448 - val_sparse_categorical_accuracy: 0.6680\n",
      "Epoch 45/100\n",
      "282/282 [==============================] - 1s 3ms/step - loss: 1.6640 - sparse_categorical_accuracy: 0.3652 - val_loss: 1.2445 - val_sparse_categorical_accuracy: 0.6690\n",
      "Epoch 46/100\n",
      "282/282 [==============================] - 1s 3ms/step - loss: 1.6740 - sparse_categorical_accuracy: 0.3566 - val_loss: 1.2444 - val_sparse_categorical_accuracy: 0.6750\n",
      "Epoch 47/100\n",
      "282/282 [==============================] - 1s 3ms/step - loss: 1.6626 - sparse_categorical_accuracy: 0.3643 - val_loss: 1.2318 - val_sparse_categorical_accuracy: 0.6750\n",
      "Epoch 48/100\n",
      "282/282 [==============================] - 1s 3ms/step - loss: 1.6693 - sparse_categorical_accuracy: 0.3629 - val_loss: 1.2451 - val_sparse_categorical_accuracy: 0.6680\n",
      "Epoch 49/100\n",
      "282/282 [==============================] - 1s 3ms/step - loss: 1.6532 - sparse_categorical_accuracy: 0.3632 - val_loss: 1.2284 - val_sparse_categorical_accuracy: 0.6750\n",
      "Epoch 50/100\n",
      "282/282 [==============================] - 1s 3ms/step - loss: 1.6539 - sparse_categorical_accuracy: 0.3609 - val_loss: 1.2250 - val_sparse_categorical_accuracy: 0.6710\n",
      "Epoch 51/100\n",
      "282/282 [==============================] - 1s 3ms/step - loss: 1.6504 - sparse_categorical_accuracy: 0.3634 - val_loss: 1.2329 - val_sparse_categorical_accuracy: 0.6720\n",
      "Epoch 52/100\n",
      "282/282 [==============================] - 1s 3ms/step - loss: 1.6534 - sparse_categorical_accuracy: 0.3630 - val_loss: 1.2411 - val_sparse_categorical_accuracy: 0.6710\n",
      "Epoch 53/100\n",
      "282/282 [==============================] - 1s 3ms/step - loss: 1.6499 - sparse_categorical_accuracy: 0.3664 - val_loss: 1.2308 - val_sparse_categorical_accuracy: 0.6670\n",
      "Epoch 54/100\n",
      "282/282 [==============================] - 1s 3ms/step - loss: 1.6486 - sparse_categorical_accuracy: 0.3649 - val_loss: 1.2297 - val_sparse_categorical_accuracy: 0.6720\n",
      "Epoch 55/100\n",
      "282/282 [==============================] - 1s 3ms/step - loss: 1.6386 - sparse_categorical_accuracy: 0.3671 - val_loss: 1.2153 - val_sparse_categorical_accuracy: 0.6710\n",
      "Epoch 56/100\n",
      "282/282 [==============================] - 1s 3ms/step - loss: 1.6626 - sparse_categorical_accuracy: 0.3606 - val_loss: 1.2288 - val_sparse_categorical_accuracy: 0.6630\n",
      "Epoch 57/100\n",
      "282/282 [==============================] - 1s 3ms/step - loss: 1.6532 - sparse_categorical_accuracy: 0.3652 - val_loss: 1.2226 - val_sparse_categorical_accuracy: 0.6700\n",
      "Epoch 58/100\n",
      "282/282 [==============================] - 1s 3ms/step - loss: 1.6562 - sparse_categorical_accuracy: 0.3642 - val_loss: 1.2217 - val_sparse_categorical_accuracy: 0.6700\n",
      "Epoch 59/100\n",
      "282/282 [==============================] - 1s 3ms/step - loss: 1.6353 - sparse_categorical_accuracy: 0.3672 - val_loss: 1.2269 - val_sparse_categorical_accuracy: 0.6740\n",
      "Epoch 60/100\n",
      "282/282 [==============================] - 1s 3ms/step - loss: 1.6400 - sparse_categorical_accuracy: 0.3704 - val_loss: 1.2152 - val_sparse_categorical_accuracy: 0.6810\n",
      "Epoch 61/100\n",
      "282/282 [==============================] - 1s 3ms/step - loss: 1.6474 - sparse_categorical_accuracy: 0.3653 - val_loss: 1.2237 - val_sparse_categorical_accuracy: 0.6700\n",
      "Epoch 62/100\n",
      "282/282 [==============================] - 1s 3ms/step - loss: 1.6357 - sparse_categorical_accuracy: 0.3730 - val_loss: 1.2212 - val_sparse_categorical_accuracy: 0.6740\n",
      "Epoch 63/100\n",
      "282/282 [==============================] - 1s 3ms/step - loss: 1.6280 - sparse_categorical_accuracy: 0.3727 - val_loss: 1.2227 - val_sparse_categorical_accuracy: 0.6720\n",
      "Epoch 64/100\n",
      "282/282 [==============================] - 1s 3ms/step - loss: 1.6427 - sparse_categorical_accuracy: 0.3776 - val_loss: 1.2130 - val_sparse_categorical_accuracy: 0.6790\n",
      "Epoch 65/100\n",
      "282/282 [==============================] - 1s 3ms/step - loss: 1.6443 - sparse_categorical_accuracy: 0.3706 - val_loss: 1.2123 - val_sparse_categorical_accuracy: 0.6760\n",
      "Epoch 66/100\n",
      "282/282 [==============================] - 1s 3ms/step - loss: 1.6282 - sparse_categorical_accuracy: 0.3801 - val_loss: 1.2143 - val_sparse_categorical_accuracy: 0.6750\n",
      "Epoch 67/100\n",
      "282/282 [==============================] - 1s 3ms/step - loss: 1.6317 - sparse_categorical_accuracy: 0.3751 - val_loss: 1.2094 - val_sparse_categorical_accuracy: 0.6780\n",
      "Epoch 68/100\n",
      "282/282 [==============================] - 1s 3ms/step - loss: 1.6285 - sparse_categorical_accuracy: 0.3780 - val_loss: 1.2131 - val_sparse_categorical_accuracy: 0.6780\n",
      "Epoch 69/100\n",
      "282/282 [==============================] - 1s 3ms/step - loss: 1.6411 - sparse_categorical_accuracy: 0.3710 - val_loss: 1.2115 - val_sparse_categorical_accuracy: 0.6750\n",
      "Epoch 70/100\n",
      "282/282 [==============================] - 1s 3ms/step - loss: 1.6287 - sparse_categorical_accuracy: 0.3744 - val_loss: 1.2080 - val_sparse_categorical_accuracy: 0.6750\n",
      "Epoch 71/100\n",
      "282/282 [==============================] - 1s 3ms/step - loss: 1.6265 - sparse_categorical_accuracy: 0.3828 - val_loss: 1.2101 - val_sparse_categorical_accuracy: 0.6810\n",
      "Epoch 72/100\n",
      "282/282 [==============================] - 1s 3ms/step - loss: 1.6472 - sparse_categorical_accuracy: 0.3712 - val_loss: 1.2084 - val_sparse_categorical_accuracy: 0.6720\n",
      "Epoch 73/100\n",
      "282/282 [==============================] - 1s 3ms/step - loss: 1.6393 - sparse_categorical_accuracy: 0.3726 - val_loss: 1.2146 - val_sparse_categorical_accuracy: 0.6810\n",
      "Epoch 74/100\n",
      "282/282 [==============================] - 1s 3ms/step - loss: 1.6318 - sparse_categorical_accuracy: 0.3774 - val_loss: 1.2217 - val_sparse_categorical_accuracy: 0.6750\n",
      "Epoch 75/100\n",
      "282/282 [==============================] - 1s 3ms/step - loss: 1.6281 - sparse_categorical_accuracy: 0.3781 - val_loss: 1.2046 - val_sparse_categorical_accuracy: 0.6910\n",
      "Epoch 76/100\n",
      "282/282 [==============================] - 1s 3ms/step - loss: 1.6296 - sparse_categorical_accuracy: 0.3752 - val_loss: 1.2094 - val_sparse_categorical_accuracy: 0.6850\n",
      "Epoch 77/100\n",
      "282/282 [==============================] - 1s 3ms/step - loss: 1.6409 - sparse_categorical_accuracy: 0.3726 - val_loss: 1.2086 - val_sparse_categorical_accuracy: 0.6770\n",
      "Epoch 78/100\n",
      "282/282 [==============================] - 1s 3ms/step - loss: 1.6230 - sparse_categorical_accuracy: 0.3787 - val_loss: 1.2143 - val_sparse_categorical_accuracy: 0.6800\n",
      "Epoch 79/100\n",
      "282/282 [==============================] - 1s 3ms/step - loss: 1.6279 - sparse_categorical_accuracy: 0.3801 - val_loss: 1.2123 - val_sparse_categorical_accuracy: 0.6860\n",
      "Epoch 80/100\n",
      "282/282 [==============================] - 1s 3ms/step - loss: 1.6160 - sparse_categorical_accuracy: 0.3848 - val_loss: 1.2084 - val_sparse_categorical_accuracy: 0.6940\n",
      "Epoch 81/100\n",
      "282/282 [==============================] - 1s 3ms/step - loss: 1.6224 - sparse_categorical_accuracy: 0.3727 - val_loss: 1.2057 - val_sparse_categorical_accuracy: 0.6900\n",
      "Epoch 82/100\n",
      "282/282 [==============================] - 1s 3ms/step - loss: 1.6173 - sparse_categorical_accuracy: 0.3844 - val_loss: 1.2146 - val_sparse_categorical_accuracy: 0.6840\n",
      "Epoch 83/100\n",
      "282/282 [==============================] - 1s 3ms/step - loss: 1.6208 - sparse_categorical_accuracy: 0.3840 - val_loss: 1.2105 - val_sparse_categorical_accuracy: 0.6940\n",
      "Epoch 84/100\n",
      "282/282 [==============================] - 1s 3ms/step - loss: 1.6261 - sparse_categorical_accuracy: 0.3764 - val_loss: 1.2161 - val_sparse_categorical_accuracy: 0.7010\n",
      "Epoch 85/100\n",
      "282/282 [==============================] - 1s 3ms/step - loss: 1.6350 - sparse_categorical_accuracy: 0.3780 - val_loss: 1.2116 - val_sparse_categorical_accuracy: 0.6920\n",
      "Epoch 86/100\n",
      "282/282 [==============================] - 1s 3ms/step - loss: 1.6231 - sparse_categorical_accuracy: 0.3854 - val_loss: 1.2121 - val_sparse_categorical_accuracy: 0.6880\n",
      "Epoch 87/100\n",
      "282/282 [==============================] - 1s 3ms/step - loss: 1.6271 - sparse_categorical_accuracy: 0.3816 - val_loss: 1.2173 - val_sparse_categorical_accuracy: 0.6890\n",
      "Epoch 88/100\n",
      "282/282 [==============================] - 1s 3ms/step - loss: 1.6297 - sparse_categorical_accuracy: 0.3822 - val_loss: 1.2142 - val_sparse_categorical_accuracy: 0.6860\n",
      "Epoch 89/100\n",
      "282/282 [==============================] - 1s 3ms/step - loss: 1.6366 - sparse_categorical_accuracy: 0.3742 - val_loss: 1.2176 - val_sparse_categorical_accuracy: 0.6940\n",
      "Epoch 90/100\n",
      "282/282 [==============================] - 1s 3ms/step - loss: 1.6295 - sparse_categorical_accuracy: 0.3800 - val_loss: 1.2055 - val_sparse_categorical_accuracy: 0.6950\n",
      "Epoch 91/100\n",
      "282/282 [==============================] - 1s 3ms/step - loss: 1.6422 - sparse_categorical_accuracy: 0.3779 - val_loss: 1.2169 - val_sparse_categorical_accuracy: 0.6950\n",
      "Epoch 92/100\n",
      "282/282 [==============================] - 1s 3ms/step - loss: 1.6362 - sparse_categorical_accuracy: 0.3860 - val_loss: 1.2193 - val_sparse_categorical_accuracy: 0.7000\n",
      "Epoch 93/100\n",
      "282/282 [==============================] - 1s 3ms/step - loss: 1.6176 - sparse_categorical_accuracy: 0.3926 - val_loss: 1.2114 - val_sparse_categorical_accuracy: 0.6960\n",
      "Epoch 94/100\n",
      "282/282 [==============================] - 1s 3ms/step - loss: 1.6129 - sparse_categorical_accuracy: 0.3881 - val_loss: 1.2126 - val_sparse_categorical_accuracy: 0.6890\n",
      "Epoch 95/100\n",
      "282/282 [==============================] - 1s 3ms/step - loss: 1.6230 - sparse_categorical_accuracy: 0.3877 - val_loss: 1.2132 - val_sparse_categorical_accuracy: 0.6990\n",
      "Epoch 96/100\n",
      "282/282 [==============================] - 1s 3ms/step - loss: 1.6213 - sparse_categorical_accuracy: 0.3863 - val_loss: 1.2125 - val_sparse_categorical_accuracy: 0.6930\n",
      "Epoch 97/100\n",
      "282/282 [==============================] - 1s 3ms/step - loss: 1.6324 - sparse_categorical_accuracy: 0.3859 - val_loss: 1.2249 - val_sparse_categorical_accuracy: 0.6880\n",
      "Epoch 98/100\n",
      "282/282 [==============================] - 1s 3ms/step - loss: 1.6198 - sparse_categorical_accuracy: 0.3803 - val_loss: 1.2149 - val_sparse_categorical_accuracy: 0.6910\n",
      "Epoch 99/100\n",
      "282/282 [==============================] - 1s 3ms/step - loss: 1.6386 - sparse_categorical_accuracy: 0.3874 - val_loss: 1.2129 - val_sparse_categorical_accuracy: 0.6960\n",
      "Epoch 100/100\n",
      "282/282 [==============================] - 1s 3ms/step - loss: 1.6235 - sparse_categorical_accuracy: 0.3919 - val_loss: 1.2130 - val_sparse_categorical_accuracy: 0.6970\n"
     ]
    }
   ],
   "source": [
    "start = timer()\n",
    "nn_lda_log = nn_lda_model.fit(lda_train_data, train_labels, epochs=100, validation_split=0.1, verbose=1)\n",
    "end = timer()"
   ]
  },
  {
   "cell_type": "code",
   "execution_count": null,
   "metadata": {
    "colab": {
     "base_uri": "https://localhost:8080/"
    },
    "id": "Oue94D1sVpr6",
    "outputId": "9a58f9ac-f74a-4e4a-f9ba-d2bcbab168f1"
   },
   "outputs": [
    {
     "name": "stdout",
     "output_type": "stream",
     "text": [
      "91.48492144100055 seconds training time.\n"
     ]
    }
   ],
   "source": [
    "time_taken = end - start\n",
    "print(time_taken, \"seconds training time.\")"
   ]
  },
  {
   "cell_type": "code",
   "execution_count": null,
   "metadata": {
    "colab": {
     "base_uri": "https://localhost:8080/"
    },
    "id": "-pbvNYZ0pZei",
    "outputId": "104dac0b-45ae-446c-89cf-712c4fa532ff"
   },
   "outputs": [
    {
     "name": "stdout",
     "output_type": "stream",
     "text": [
      " 1/32 [..............................] - ETA: 0s - loss: 2.1593 - sparse_categorical_accuracy: 0.2500WARNING:tensorflow:Callbacks method `on_test_batch_end` is slow compared to the batch time (batch time: 0.0017s vs `on_test_batch_end` time: 0.0029s). Check your callbacks.\n",
      "32/32 [==============================] - 0s 2ms/step - loss: 3.0261 - sparse_categorical_accuracy: 0.2450\n"
     ]
    },
    {
     "data": {
      "text/plain": [
       "[3.026127815246582, 0.24500000476837158]"
      ]
     },
     "execution_count": 71,
     "metadata": {
      "tags": []
     },
     "output_type": "execute_result"
    }
   ],
   "source": [
    "nn_lda_model.evaluate(lda_test_data, test_labels)"
   ]
  },
  {
   "cell_type": "code",
   "execution_count": null,
   "metadata": {
    "colab": {
     "base_uri": "https://localhost:8080/",
     "height": 297
    },
    "id": "Fy1Uz8ME9D0o",
    "outputId": "794cff11-32b7-4072-e376-62c1345af0c6"
   },
   "outputs": [
    {
     "data": {
      "image/png": "[encoded data removed]",
      "text/plain": [
       "<Figure size 432x288 with 2 Axes>"
      ]
     },
     "metadata": {
      "needs_background": "light",
      "tags": []
     },
     "output_type": "display_data"
    }
   ],
   "source": [
    "plt.figure()\n",
    "plt.subplot(1, 2, 1)\n",
    "plt.plot(nn_lda_log.history['sparse_categorical_accuracy'])\n",
    "plt.plot(nn_lda_log.history['val_sparse_categorical_accuracy'])\n",
    "plt.xlabel('Epoch')\n",
    "plt.ylabel('Accuracy')\n",
    "plt.legend(['Training Accuracy',\n",
    "           'Validation Accuracy'])\n",
    "plt.title('Accuracy Curves')\n",
    "\n",
    "plt.subplot(1, 2, 2)\n",
    "plt.plot(nn_lda_log.history['loss'])\n",
    "plt.plot(nn_lda_log.history['val_loss'])\n",
    "plt.xlabel('Epoch')\n",
    "plt.ylabel('Loss')\n",
    "plt.legend(['Training Loss',\n",
    "           'Validation Loss'])\n",
    "plt.title('Loss Curves')\n",
    "\n",
    "plt.tight_layout()\n",
    "plt.show()"
   ]
  },
  {
   "cell_type": "code",
   "execution_count": null,
   "metadata": {
    "id": "_KfA7RYUGt8T"
   },
   "outputs": [],
   "source": [
    "predictions = np.argmax(nn_lda_model.predict(lda_test_data), axis=-1)"
   ]
  },
  {
   "cell_type": "code",
   "execution_count": null,
   "metadata": {
    "id": "XT7KZLUyHFLR"
   },
   "outputs": [],
   "source": [
    "cm = confusion_matrix(test_labels, predictions)"
   ]
  },
  {
   "cell_type": "code",
   "execution_count": null,
   "metadata": {
    "colab": {
     "base_uri": "https://localhost:8080/",
     "height": 348
    },
    "id": "uAbzdQ7ZHGZ7",
    "outputId": "e07849db-dc10-408b-b753-326754bacf6a"
   },
   "outputs": [
    {
     "name": "stdout",
     "output_type": "stream",
     "text": [
      "Confusion matrix for LDA + MLP NN\n"
     ]
    },
    {
     "data": {
      "text/plain": [
       "<matplotlib.axes._subplots.AxesSubplot at 0x7f9886f59b70>"
      ]
     },
     "execution_count": 75,
     "metadata": {
      "tags": []
     },
     "output_type": "execute_result"
    },
    {
     "data": {
      "image/png": "[encoded data removed]",
      "text/plain": [
       "<Figure size 432x288 with 2 Axes>"
      ]
     },
     "metadata": {
      "needs_background": "light",
      "tags": []
     },
     "output_type": "display_data"
    }
   ],
   "source": [
    "print(\"Confusion matrix for LDA + MLP NN\")\n",
    "sns.heatmap(cm, annot=True, xticklabels=class_labels, \n",
    "            yticklabels=class_labels)"
   ]
  },
  {
   "cell_type": "code",
   "execution_count": null,
   "metadata": {
    "colab": {
     "base_uri": "https://localhost:8080/"
    },
    "id": "poyy0I5tJNCN",
    "outputId": "d3f92655-f8d1-44bf-bb6b-77a6db55fd87"
   },
   "outputs": [
    {
     "name": "stdout",
     "output_type": "stream",
     "text": [
      "              precision    recall  f1-score   support\n",
      "\n",
      "           0       0.25      0.37      0.30       100\n",
      "           1       0.26      0.20      0.23       100\n",
      "           2       0.18      0.23      0.20       100\n",
      "           3       0.17      0.23      0.20       100\n",
      "           4       0.30      0.21      0.25       100\n",
      "           5       0.25      0.26      0.25       100\n",
      "           6       0.21      0.17      0.19       100\n",
      "           7       0.30      0.18      0.22       100\n",
      "           8       0.34      0.26      0.29       100\n",
      "           9       0.28      0.34      0.31       100\n",
      "\n",
      "    accuracy                           0.24      1000\n",
      "   macro avg       0.25      0.25      0.24      1000\n",
      "weighted avg       0.25      0.24      0.24      1000\n",
      "\n"
     ]
    }
   ],
   "source": [
    "print(classification_report(test_labels, predictions))"
   ]
  },
  {
   "cell_type": "markdown",
   "metadata": {
    "id": "345XW9rhS6_J"
   },
   "source": [
    "### HOG + LDA + Neural Network"
   ]
  },
  {
   "cell_type": "code",
   "execution_count": null,
   "metadata": {
    "id": "EiWAg2hXcJ5N"
   },
   "outputs": [],
   "source": [
    "nn_hog_lda_model = tf.keras.Sequential(layers=[\n",
    "    tf.keras.layers.Dense(9, activation=tf.nn.relu),\n",
    "    tf.keras.layers.Dense(7, activation=tf.nn.relu),\n",
    "    tf.keras.layers.Dense(5, activation=tf.nn.relu),\n",
    "    tf.keras.layers.Dropout(0.5),\n",
    "    tf.keras.layers.Dense(10, activation=tf.nn.softmax)])"
   ]
  },
  {
   "cell_type": "code",
   "execution_count": null,
   "metadata": {
    "id": "A26o3faucS7J"
   },
   "outputs": [],
   "source": [
    "nn_hog_lda_model.compile(optimizer=tf.keras.optimizers.Adam(learning_rate=0.001), \n",
    "loss=tf.keras.losses.SparseCategoricalCrossentropy(), \n",
    "metrics=tf.keras.metrics.SparseCategoricalAccuracy())"
   ]
  },
  {
   "cell_type": "code",
   "execution_count": null,
   "metadata": {
    "colab": {
     "base_uri": "https://localhost:8080/"
    },
    "id": "zyb6ultacU5O",
    "outputId": "a3a3b42b-9d39-4023-8a7a-04290473efbd"
   },
   "outputs": [
    {
     "name": "stdout",
     "output_type": "stream",
     "text": [
      "Epoch 1/100\n",
      "282/282 [==============================] - 1s 4ms/step - loss: 2.3179 - sparse_categorical_accuracy: 0.1239 - val_loss: 2.2048 - val_sparse_categorical_accuracy: 0.2280\n",
      "Epoch 2/100\n",
      "282/282 [==============================] - 1s 3ms/step - loss: 2.2208 - sparse_categorical_accuracy: 0.1810 - val_loss: 2.1443 - val_sparse_categorical_accuracy: 0.2770\n",
      "Epoch 3/100\n",
      "282/282 [==============================] - 1s 3ms/step - loss: 2.1981 - sparse_categorical_accuracy: 0.1939 - val_loss: 2.1160 - val_sparse_categorical_accuracy: 0.2900\n",
      "Epoch 4/100\n",
      "282/282 [==============================] - 1s 3ms/step - loss: 2.1731 - sparse_categorical_accuracy: 0.2028 - val_loss: 2.0769 - val_sparse_categorical_accuracy: 0.3150\n",
      "Epoch 5/100\n",
      "282/282 [==============================] - 1s 3ms/step - loss: 2.1511 - sparse_categorical_accuracy: 0.2079 - val_loss: 2.0464 - val_sparse_categorical_accuracy: 0.3100\n",
      "Epoch 6/100\n",
      "282/282 [==============================] - 1s 3ms/step - loss: 2.1247 - sparse_categorical_accuracy: 0.2100 - val_loss: 2.0079 - val_sparse_categorical_accuracy: 0.3220\n",
      "Epoch 7/100\n",
      "282/282 [==============================] - 1s 3ms/step - loss: 2.0935 - sparse_categorical_accuracy: 0.2180 - val_loss: 1.9575 - val_sparse_categorical_accuracy: 0.3410\n",
      "Epoch 8/100\n",
      "282/282 [==============================] - 1s 3ms/step - loss: 2.0577 - sparse_categorical_accuracy: 0.2410 - val_loss: 1.8977 - val_sparse_categorical_accuracy: 0.3570\n",
      "Epoch 9/100\n",
      "282/282 [==============================] - 1s 3ms/step - loss: 2.0267 - sparse_categorical_accuracy: 0.2529 - val_loss: 1.8696 - val_sparse_categorical_accuracy: 0.3840\n",
      "Epoch 10/100\n",
      "282/282 [==============================] - 1s 3ms/step - loss: 2.0065 - sparse_categorical_accuracy: 0.2510 - val_loss: 1.8406 - val_sparse_categorical_accuracy: 0.3740\n",
      "Epoch 11/100\n",
      "282/282 [==============================] - 1s 3ms/step - loss: 1.9976 - sparse_categorical_accuracy: 0.2489 - val_loss: 1.8341 - val_sparse_categorical_accuracy: 0.4010\n",
      "Epoch 12/100\n",
      "282/282 [==============================] - 1s 3ms/step - loss: 1.9827 - sparse_categorical_accuracy: 0.2593 - val_loss: 1.8133 - val_sparse_categorical_accuracy: 0.4020\n",
      "Epoch 13/100\n",
      "282/282 [==============================] - 1s 3ms/step - loss: 1.9810 - sparse_categorical_accuracy: 0.2631 - val_loss: 1.8021 - val_sparse_categorical_accuracy: 0.3980\n",
      "Epoch 14/100\n",
      "282/282 [==============================] - 1s 3ms/step - loss: 1.9884 - sparse_categorical_accuracy: 0.2603 - val_loss: 1.7899 - val_sparse_categorical_accuracy: 0.4190\n",
      "Epoch 15/100\n",
      "282/282 [==============================] - 1s 3ms/step - loss: 1.9764 - sparse_categorical_accuracy: 0.2670 - val_loss: 1.7820 - val_sparse_categorical_accuracy: 0.4140\n",
      "Epoch 16/100\n",
      "282/282 [==============================] - 1s 3ms/step - loss: 1.9724 - sparse_categorical_accuracy: 0.2697 - val_loss: 1.7824 - val_sparse_categorical_accuracy: 0.4150\n",
      "Epoch 17/100\n",
      "282/282 [==============================] - 1s 3ms/step - loss: 1.9695 - sparse_categorical_accuracy: 0.2704 - val_loss: 1.7797 - val_sparse_categorical_accuracy: 0.4230\n",
      "Epoch 18/100\n",
      "282/282 [==============================] - 1s 3ms/step - loss: 1.9603 - sparse_categorical_accuracy: 0.2741 - val_loss: 1.7750 - val_sparse_categorical_accuracy: 0.4240\n",
      "Epoch 19/100\n",
      "282/282 [==============================] - 1s 3ms/step - loss: 1.9683 - sparse_categorical_accuracy: 0.2709 - val_loss: 1.7667 - val_sparse_categorical_accuracy: 0.4230\n",
      "Epoch 20/100\n",
      "282/282 [==============================] - 1s 3ms/step - loss: 1.9602 - sparse_categorical_accuracy: 0.2678 - val_loss: 1.7631 - val_sparse_categorical_accuracy: 0.4320\n",
      "Epoch 21/100\n",
      "282/282 [==============================] - 1s 3ms/step - loss: 1.9689 - sparse_categorical_accuracy: 0.2667 - val_loss: 1.7670 - val_sparse_categorical_accuracy: 0.4250\n",
      "Epoch 22/100\n",
      "282/282 [==============================] - 1s 3ms/step - loss: 1.9530 - sparse_categorical_accuracy: 0.2767 - val_loss: 1.7621 - val_sparse_categorical_accuracy: 0.4410\n",
      "Epoch 23/100\n",
      "282/282 [==============================] - 1s 3ms/step - loss: 1.9788 - sparse_categorical_accuracy: 0.2689 - val_loss: 1.7717 - val_sparse_categorical_accuracy: 0.4400\n",
      "Epoch 24/100\n",
      "282/282 [==============================] - 1s 3ms/step - loss: 1.9557 - sparse_categorical_accuracy: 0.2764 - val_loss: 1.7564 - val_sparse_categorical_accuracy: 0.4370\n",
      "Epoch 25/100\n",
      "282/282 [==============================] - 1s 3ms/step - loss: 1.9716 - sparse_categorical_accuracy: 0.2716 - val_loss: 1.7595 - val_sparse_categorical_accuracy: 0.4360\n",
      "Epoch 26/100\n",
      "282/282 [==============================] - 1s 3ms/step - loss: 1.9581 - sparse_categorical_accuracy: 0.2764 - val_loss: 1.7618 - val_sparse_categorical_accuracy: 0.4410\n",
      "Epoch 27/100\n",
      "282/282 [==============================] - 1s 3ms/step - loss: 1.9547 - sparse_categorical_accuracy: 0.2774 - val_loss: 1.7523 - val_sparse_categorical_accuracy: 0.4390\n",
      "Epoch 28/100\n",
      "282/282 [==============================] - 1s 3ms/step - loss: 1.9619 - sparse_categorical_accuracy: 0.2727 - val_loss: 1.7503 - val_sparse_categorical_accuracy: 0.4480\n",
      "Epoch 29/100\n",
      "282/282 [==============================] - 1s 3ms/step - loss: 1.9523 - sparse_categorical_accuracy: 0.2786 - val_loss: 1.7494 - val_sparse_categorical_accuracy: 0.4440\n",
      "Epoch 30/100\n",
      "282/282 [==============================] - 1s 3ms/step - loss: 1.9477 - sparse_categorical_accuracy: 0.2853 - val_loss: 1.7490 - val_sparse_categorical_accuracy: 0.4480\n",
      "Epoch 31/100\n",
      "282/282 [==============================] - 1s 3ms/step - loss: 1.9558 - sparse_categorical_accuracy: 0.2732 - val_loss: 1.7560 - val_sparse_categorical_accuracy: 0.4320\n",
      "Epoch 32/100\n",
      "282/282 [==============================] - 1s 3ms/step - loss: 1.9626 - sparse_categorical_accuracy: 0.2753 - val_loss: 1.7500 - val_sparse_categorical_accuracy: 0.4410\n",
      "Epoch 33/100\n",
      "282/282 [==============================] - 1s 3ms/step - loss: 1.9543 - sparse_categorical_accuracy: 0.2714 - val_loss: 1.7437 - val_sparse_categorical_accuracy: 0.4430\n",
      "Epoch 34/100\n",
      "282/282 [==============================] - 1s 3ms/step - loss: 1.9513 - sparse_categorical_accuracy: 0.2760 - val_loss: 1.7568 - val_sparse_categorical_accuracy: 0.4460\n",
      "Epoch 35/100\n",
      "282/282 [==============================] - 1s 3ms/step - loss: 1.9519 - sparse_categorical_accuracy: 0.2811 - val_loss: 1.7528 - val_sparse_categorical_accuracy: 0.4480\n",
      "Epoch 36/100\n",
      "282/282 [==============================] - 1s 3ms/step - loss: 1.9591 - sparse_categorical_accuracy: 0.2754 - val_loss: 1.7476 - val_sparse_categorical_accuracy: 0.4480\n",
      "Epoch 37/100\n",
      "282/282 [==============================] - 1s 3ms/step - loss: 1.9582 - sparse_categorical_accuracy: 0.2802 - val_loss: 1.7535 - val_sparse_categorical_accuracy: 0.4380\n",
      "Epoch 38/100\n",
      "282/282 [==============================] - 1s 3ms/step - loss: 1.9536 - sparse_categorical_accuracy: 0.2770 - val_loss: 1.7470 - val_sparse_categorical_accuracy: 0.4420\n",
      "Epoch 39/100\n",
      "282/282 [==============================] - 1s 3ms/step - loss: 1.9447 - sparse_categorical_accuracy: 0.2720 - val_loss: 1.7439 - val_sparse_categorical_accuracy: 0.4520\n",
      "Epoch 40/100\n",
      "282/282 [==============================] - 1s 3ms/step - loss: 1.9417 - sparse_categorical_accuracy: 0.2782 - val_loss: 1.7441 - val_sparse_categorical_accuracy: 0.4470\n",
      "Epoch 41/100\n",
      "282/282 [==============================] - 1s 3ms/step - loss: 1.9491 - sparse_categorical_accuracy: 0.2782 - val_loss: 1.7400 - val_sparse_categorical_accuracy: 0.4410\n",
      "Epoch 42/100\n",
      "282/282 [==============================] - 1s 3ms/step - loss: 1.9499 - sparse_categorical_accuracy: 0.2774 - val_loss: 1.7512 - val_sparse_categorical_accuracy: 0.4460\n",
      "Epoch 43/100\n",
      "282/282 [==============================] - 1s 3ms/step - loss: 1.9548 - sparse_categorical_accuracy: 0.2762 - val_loss: 1.7406 - val_sparse_categorical_accuracy: 0.4510\n",
      "Epoch 44/100\n",
      "282/282 [==============================] - 1s 3ms/step - loss: 1.9486 - sparse_categorical_accuracy: 0.2796 - val_loss: 1.7471 - val_sparse_categorical_accuracy: 0.4450\n",
      "Epoch 45/100\n",
      "282/282 [==============================] - 1s 3ms/step - loss: 1.9446 - sparse_categorical_accuracy: 0.2794 - val_loss: 1.7375 - val_sparse_categorical_accuracy: 0.4540\n",
      "Epoch 46/100\n",
      "282/282 [==============================] - 1s 3ms/step - loss: 1.9498 - sparse_categorical_accuracy: 0.2758 - val_loss: 1.7413 - val_sparse_categorical_accuracy: 0.4570\n",
      "Epoch 47/100\n",
      "282/282 [==============================] - 1s 3ms/step - loss: 1.9513 - sparse_categorical_accuracy: 0.2773 - val_loss: 1.7422 - val_sparse_categorical_accuracy: 0.4570\n",
      "Epoch 48/100\n",
      "282/282 [==============================] - 1s 3ms/step - loss: 1.9406 - sparse_categorical_accuracy: 0.2793 - val_loss: 1.7422 - val_sparse_categorical_accuracy: 0.4550\n",
      "Epoch 49/100\n",
      "282/282 [==============================] - 1s 3ms/step - loss: 1.9475 - sparse_categorical_accuracy: 0.2777 - val_loss: 1.7387 - val_sparse_categorical_accuracy: 0.4500\n",
      "Epoch 50/100\n",
      "282/282 [==============================] - 1s 3ms/step - loss: 1.9530 - sparse_categorical_accuracy: 0.2737 - val_loss: 1.7460 - val_sparse_categorical_accuracy: 0.4570\n",
      "Epoch 51/100\n",
      "282/282 [==============================] - 1s 3ms/step - loss: 1.9447 - sparse_categorical_accuracy: 0.2773 - val_loss: 1.7343 - val_sparse_categorical_accuracy: 0.4510\n",
      "Epoch 52/100\n",
      "282/282 [==============================] - 1s 3ms/step - loss: 1.9509 - sparse_categorical_accuracy: 0.2761 - val_loss: 1.7330 - val_sparse_categorical_accuracy: 0.4570\n",
      "Epoch 53/100\n",
      "282/282 [==============================] - 1s 3ms/step - loss: 1.9433 - sparse_categorical_accuracy: 0.2806 - val_loss: 1.7366 - val_sparse_categorical_accuracy: 0.4520\n",
      "Epoch 54/100\n",
      "282/282 [==============================] - 1s 3ms/step - loss: 1.9394 - sparse_categorical_accuracy: 0.2814 - val_loss: 1.7332 - val_sparse_categorical_accuracy: 0.4500\n",
      "Epoch 55/100\n",
      "282/282 [==============================] - 1s 3ms/step - loss: 1.9421 - sparse_categorical_accuracy: 0.2774 - val_loss: 1.7325 - val_sparse_categorical_accuracy: 0.4460\n",
      "Epoch 56/100\n",
      "282/282 [==============================] - 1s 3ms/step - loss: 1.9428 - sparse_categorical_accuracy: 0.2800 - val_loss: 1.7256 - val_sparse_categorical_accuracy: 0.4510\n",
      "Epoch 57/100\n",
      "282/282 [==============================] - 1s 3ms/step - loss: 1.9404 - sparse_categorical_accuracy: 0.2768 - val_loss: 1.7300 - val_sparse_categorical_accuracy: 0.4540\n",
      "Epoch 58/100\n",
      "282/282 [==============================] - 1s 3ms/step - loss: 1.9491 - sparse_categorical_accuracy: 0.2792 - val_loss: 1.7185 - val_sparse_categorical_accuracy: 0.4590\n",
      "Epoch 59/100\n",
      "282/282 [==============================] - 1s 3ms/step - loss: 1.9491 - sparse_categorical_accuracy: 0.2759 - val_loss: 1.7388 - val_sparse_categorical_accuracy: 0.4480\n",
      "Epoch 60/100\n",
      "282/282 [==============================] - 1s 3ms/step - loss: 1.9333 - sparse_categorical_accuracy: 0.2858 - val_loss: 1.7419 - val_sparse_categorical_accuracy: 0.4510\n",
      "Epoch 61/100\n",
      "282/282 [==============================] - 1s 3ms/step - loss: 1.9395 - sparse_categorical_accuracy: 0.2826 - val_loss: 1.7420 - val_sparse_categorical_accuracy: 0.4490\n",
      "Epoch 62/100\n",
      "282/282 [==============================] - 1s 3ms/step - loss: 1.9372 - sparse_categorical_accuracy: 0.2814 - val_loss: 1.7193 - val_sparse_categorical_accuracy: 0.4580\n",
      "Epoch 63/100\n",
      "282/282 [==============================] - 1s 3ms/step - loss: 1.9504 - sparse_categorical_accuracy: 0.2788 - val_loss: 1.7378 - val_sparse_categorical_accuracy: 0.4470\n",
      "Epoch 64/100\n",
      "282/282 [==============================] - 1s 3ms/step - loss: 1.9440 - sparse_categorical_accuracy: 0.2781 - val_loss: 1.7258 - val_sparse_categorical_accuracy: 0.4550\n",
      "Epoch 65/100\n",
      "282/282 [==============================] - 1s 3ms/step - loss: 1.9444 - sparse_categorical_accuracy: 0.2797 - val_loss: 1.7266 - val_sparse_categorical_accuracy: 0.4510\n",
      "Epoch 66/100\n",
      "282/282 [==============================] - 1s 3ms/step - loss: 1.9421 - sparse_categorical_accuracy: 0.2776 - val_loss: 1.7255 - val_sparse_categorical_accuracy: 0.4560\n",
      "Epoch 67/100\n",
      "282/282 [==============================] - 1s 3ms/step - loss: 1.9332 - sparse_categorical_accuracy: 0.2780 - val_loss: 1.7172 - val_sparse_categorical_accuracy: 0.4530\n",
      "Epoch 68/100\n",
      "282/282 [==============================] - 1s 3ms/step - loss: 1.9528 - sparse_categorical_accuracy: 0.2791 - val_loss: 1.7320 - val_sparse_categorical_accuracy: 0.4570\n",
      "Epoch 69/100\n",
      "282/282 [==============================] - 1s 3ms/step - loss: 1.9349 - sparse_categorical_accuracy: 0.2843 - val_loss: 1.7183 - val_sparse_categorical_accuracy: 0.4530\n",
      "Epoch 70/100\n",
      "282/282 [==============================] - 1s 3ms/step - loss: 1.9376 - sparse_categorical_accuracy: 0.2770 - val_loss: 1.7201 - val_sparse_categorical_accuracy: 0.4400\n",
      "Epoch 71/100\n",
      "282/282 [==============================] - 1s 3ms/step - loss: 1.9404 - sparse_categorical_accuracy: 0.2766 - val_loss: 1.7231 - val_sparse_categorical_accuracy: 0.4530\n",
      "Epoch 72/100\n",
      "282/282 [==============================] - 1s 3ms/step - loss: 1.9405 - sparse_categorical_accuracy: 0.2806 - val_loss: 1.7262 - val_sparse_categorical_accuracy: 0.4560\n",
      "Epoch 73/100\n",
      "282/282 [==============================] - 1s 3ms/step - loss: 1.9412 - sparse_categorical_accuracy: 0.2791 - val_loss: 1.7242 - val_sparse_categorical_accuracy: 0.4600\n",
      "Epoch 74/100\n",
      "282/282 [==============================] - 1s 3ms/step - loss: 1.9385 - sparse_categorical_accuracy: 0.2830 - val_loss: 1.7252 - val_sparse_categorical_accuracy: 0.4480\n",
      "Epoch 75/100\n",
      "282/282 [==============================] - 1s 3ms/step - loss: 1.9501 - sparse_categorical_accuracy: 0.2736 - val_loss: 1.7254 - val_sparse_categorical_accuracy: 0.4510\n",
      "Epoch 76/100\n",
      "282/282 [==============================] - 1s 3ms/step - loss: 1.9391 - sparse_categorical_accuracy: 0.2764 - val_loss: 1.7222 - val_sparse_categorical_accuracy: 0.4490\n",
      "Epoch 77/100\n",
      "282/282 [==============================] - 1s 3ms/step - loss: 1.9281 - sparse_categorical_accuracy: 0.2890 - val_loss: 1.7102 - val_sparse_categorical_accuracy: 0.4500\n",
      "Epoch 78/100\n",
      "282/282 [==============================] - 1s 3ms/step - loss: 1.9507 - sparse_categorical_accuracy: 0.2766 - val_loss: 1.7249 - val_sparse_categorical_accuracy: 0.4420\n",
      "Epoch 79/100\n",
      "282/282 [==============================] - 1s 3ms/step - loss: 1.9418 - sparse_categorical_accuracy: 0.2772 - val_loss: 1.7240 - val_sparse_categorical_accuracy: 0.4510\n",
      "Epoch 80/100\n",
      "282/282 [==============================] - 1s 3ms/step - loss: 1.9437 - sparse_categorical_accuracy: 0.2772 - val_loss: 1.7310 - val_sparse_categorical_accuracy: 0.4460\n",
      "Epoch 81/100\n",
      "282/282 [==============================] - 1s 3ms/step - loss: 1.9379 - sparse_categorical_accuracy: 0.2818 - val_loss: 1.7259 - val_sparse_categorical_accuracy: 0.4460\n",
      "Epoch 82/100\n",
      "282/282 [==============================] - 1s 3ms/step - loss: 1.9391 - sparse_categorical_accuracy: 0.2772 - val_loss: 1.7198 - val_sparse_categorical_accuracy: 0.4510\n",
      "Epoch 83/100\n",
      "282/282 [==============================] - 1s 3ms/step - loss: 1.9351 - sparse_categorical_accuracy: 0.2832 - val_loss: 1.7257 - val_sparse_categorical_accuracy: 0.4520\n",
      "Epoch 84/100\n",
      "282/282 [==============================] - 1s 3ms/step - loss: 1.9299 - sparse_categorical_accuracy: 0.2849 - val_loss: 1.7235 - val_sparse_categorical_accuracy: 0.4450\n",
      "Epoch 85/100\n",
      "282/282 [==============================] - 1s 3ms/step - loss: 1.9464 - sparse_categorical_accuracy: 0.2723 - val_loss: 1.7214 - val_sparse_categorical_accuracy: 0.4570\n",
      "Epoch 86/100\n",
      "282/282 [==============================] - 1s 3ms/step - loss: 1.9447 - sparse_categorical_accuracy: 0.2804 - val_loss: 1.7186 - val_sparse_categorical_accuracy: 0.4500\n",
      "Epoch 87/100\n",
      "282/282 [==============================] - 1s 3ms/step - loss: 1.9489 - sparse_categorical_accuracy: 0.2713 - val_loss: 1.7254 - val_sparse_categorical_accuracy: 0.4530\n",
      "Epoch 88/100\n",
      "282/282 [==============================] - 1s 3ms/step - loss: 1.9439 - sparse_categorical_accuracy: 0.2866 - val_loss: 1.7222 - val_sparse_categorical_accuracy: 0.4490\n",
      "Epoch 89/100\n",
      "282/282 [==============================] - 1s 3ms/step - loss: 1.9349 - sparse_categorical_accuracy: 0.2829 - val_loss: 1.7249 - val_sparse_categorical_accuracy: 0.4570\n",
      "Epoch 90/100\n",
      "282/282 [==============================] - 1s 3ms/step - loss: 1.9344 - sparse_categorical_accuracy: 0.2736 - val_loss: 1.7280 - val_sparse_categorical_accuracy: 0.4580\n",
      "Epoch 91/100\n",
      "282/282 [==============================] - 1s 3ms/step - loss: 1.9464 - sparse_categorical_accuracy: 0.2767 - val_loss: 1.7235 - val_sparse_categorical_accuracy: 0.4510\n",
      "Epoch 92/100\n",
      "282/282 [==============================] - 1s 3ms/step - loss: 1.9423 - sparse_categorical_accuracy: 0.2804 - val_loss: 1.7235 - val_sparse_categorical_accuracy: 0.4560\n",
      "Epoch 93/100\n",
      "282/282 [==============================] - 1s 3ms/step - loss: 1.9397 - sparse_categorical_accuracy: 0.2818 - val_loss: 1.7135 - val_sparse_categorical_accuracy: 0.4560\n",
      "Epoch 94/100\n",
      "282/282 [==============================] - 1s 3ms/step - loss: 1.9279 - sparse_categorical_accuracy: 0.2882 - val_loss: 1.7214 - val_sparse_categorical_accuracy: 0.4550\n",
      "Epoch 95/100\n",
      "282/282 [==============================] - 1s 3ms/step - loss: 1.9473 - sparse_categorical_accuracy: 0.2781 - val_loss: 1.7221 - val_sparse_categorical_accuracy: 0.4540\n",
      "Epoch 96/100\n",
      "282/282 [==============================] - 1s 3ms/step - loss: 1.9335 - sparse_categorical_accuracy: 0.2858 - val_loss: 1.7293 - val_sparse_categorical_accuracy: 0.4490\n",
      "Epoch 97/100\n",
      "282/282 [==============================] - 1s 3ms/step - loss: 1.9397 - sparse_categorical_accuracy: 0.2842 - val_loss: 1.7240 - val_sparse_categorical_accuracy: 0.4480\n",
      "Epoch 98/100\n",
      "282/282 [==============================] - 1s 3ms/step - loss: 1.9406 - sparse_categorical_accuracy: 0.2787 - val_loss: 1.7233 - val_sparse_categorical_accuracy: 0.4510\n",
      "Epoch 99/100\n",
      "282/282 [==============================] - 1s 3ms/step - loss: 1.9403 - sparse_categorical_accuracy: 0.2829 - val_loss: 1.7229 - val_sparse_categorical_accuracy: 0.4610\n",
      "Epoch 100/100\n",
      "282/282 [==============================] - 1s 3ms/step - loss: 1.9398 - sparse_categorical_accuracy: 0.2753 - val_loss: 1.7159 - val_sparse_categorical_accuracy: 0.4530\n"
     ]
    }
   ],
   "source": [
    "start = timer()\n",
    "nn_hog_lda_log = nn_hog_lda_model.fit(hog_lda_train_data, train_labels, epochs=100, validation_split=0.1, verbose=1)\n",
    "end = timer()"
   ]
  },
  {
   "cell_type": "code",
   "execution_count": null,
   "metadata": {
    "colab": {
     "base_uri": "https://localhost:8080/"
    },
    "id": "gHaETwKLVtRQ",
    "outputId": "b92ead8d-7fe9-4c28-eaff-716dfa0ef6ff"
   },
   "outputs": [
    {
     "name": "stdout",
     "output_type": "stream",
     "text": [
      "91.97552833200007 seconds training time.\n"
     ]
    }
   ],
   "source": [
    "time_taken = end - start\n",
    "print(time_taken, \"seconds training time.\")"
   ]
  },
  {
   "cell_type": "code",
   "execution_count": null,
   "metadata": {
    "colab": {
     "base_uri": "https://localhost:8080/"
    },
    "id": "WSKzFBnHqtEY",
    "outputId": "34c0ec03-7dd3-49e9-a8da-897c9062c6a4"
   },
   "outputs": [
    {
     "name": "stdout",
     "output_type": "stream",
     "text": [
      "32/32 [==============================] - 0s 2ms/step - loss: 1.7390 - sparse_categorical_accuracy: 0.4270\n"
     ]
    },
    {
     "data": {
      "text/plain": [
       "[1.7390260696411133, 0.4269999861717224]"
      ]
     },
     "execution_count": 81,
     "metadata": {
      "tags": []
     },
     "output_type": "execute_result"
    }
   ],
   "source": [
    "nn_hog_lda_model.evaluate(hog_lda_test_data, test_labels)"
   ]
  },
  {
   "cell_type": "code",
   "execution_count": null,
   "metadata": {
    "colab": {
     "base_uri": "https://localhost:8080/",
     "height": 297
    },
    "id": "RjRxao1C9HXt",
    "outputId": "0488c1e0-fcbf-46c2-91ab-8e16a78ac912"
   },
   "outputs": [
    {
     "data": {
      "image/png": "[encoded data removed]",
      "text/plain": [
       "<Figure size 432x288 with 2 Axes>"
      ]
     },
     "metadata": {
      "needs_background": "light",
      "tags": []
     },
     "output_type": "display_data"
    }
   ],
   "source": [
    "plt.figure()\n",
    "plt.subplot(1, 2, 1)\n",
    "plt.plot(nn_hog_lda_log.history['sparse_categorical_accuracy'])\n",
    "plt.plot(nn_hog_lda_log.history['val_sparse_categorical_accuracy'])\n",
    "plt.xlabel('Epoch')\n",
    "plt.ylabel('Accuracy')\n",
    "plt.legend(['Training Accuracy',\n",
    "           'Validation Accuracy'])\n",
    "plt.title('Accuracy Curves')\n",
    "\n",
    "plt.subplot(1, 2, 2)\n",
    "plt.plot(nn_hog_lda_log.history['loss'])\n",
    "plt.plot(nn_hog_lda_log.history['val_loss'])\n",
    "plt.xlabel('Epoch')\n",
    "plt.ylabel('Loss')\n",
    "plt.legend(['Training Loss',\n",
    "           'Validation Loss'])\n",
    "plt.title('Loss Curves')\n",
    "\n",
    "plt.tight_layout()\n",
    "plt.show()"
   ]
  },
  {
   "cell_type": "code",
   "execution_count": null,
   "metadata": {
    "id": "3efCispvHJ38"
   },
   "outputs": [],
   "source": [
    "predictions = np.argmax(nn_hog_lda_model.predict(hog_lda_test_data), axis=-1)"
   ]
  },
  {
   "cell_type": "code",
   "execution_count": null,
   "metadata": {
    "id": "mvjd73koHNcQ"
   },
   "outputs": [],
   "source": [
    "cm = confusion_matrix(test_labels, predictions)"
   ]
  },
  {
   "cell_type": "code",
   "execution_count": null,
   "metadata": {
    "colab": {
     "base_uri": "https://localhost:8080/",
     "height": 348
    },
    "id": "VxyJgPShHQkw",
    "outputId": "a58aba4e-368f-4c59-e3bb-71e21406f3bb"
   },
   "outputs": [
    {
     "name": "stdout",
     "output_type": "stream",
     "text": [
      "Confusion matrix for HOG + LDA + MLP NN\n"
     ]
    },
    {
     "data": {
      "text/plain": [
       "<matplotlib.axes._subplots.AxesSubplot at 0x7f98e01629e8>"
      ]
     },
     "execution_count": 85,
     "metadata": {
      "tags": []
     },
     "output_type": "execute_result"
    },
    {
     "data": {
      "image/png": "[encoded data removed]",
      "text/plain": [
       "<Figure size 432x288 with 2 Axes>"
      ]
     },
     "metadata": {
      "needs_background": "light",
      "tags": []
     },
     "output_type": "display_data"
    }
   ],
   "source": [
    "print(\"Confusion matrix for HOG + LDA + MLP NN\")\n",
    "sns.heatmap(cm, annot=True, xticklabels=class_labels, \n",
    "            yticklabels=class_labels)"
   ]
  },
  {
   "cell_type": "code",
   "execution_count": null,
   "metadata": {
    "colab": {
     "base_uri": "https://localhost:8080/"
    },
    "id": "_WrG74ZXJNs-",
    "outputId": "9d2d14eb-c1a9-4b42-dba1-4390faa00016"
   },
   "outputs": [
    {
     "name": "stdout",
     "output_type": "stream",
     "text": [
      "              precision    recall  f1-score   support\n",
      "\n",
      "           0       0.51      0.62      0.56       100\n",
      "           1       0.41      0.56      0.47       100\n",
      "           2       0.30      0.30      0.30       100\n",
      "           3       0.24      0.07      0.11       100\n",
      "           4       0.38      0.09      0.15       100\n",
      "           5       0.36      0.56      0.44       100\n",
      "           6       0.28      0.46      0.35       100\n",
      "           7       0.64      0.51      0.57       100\n",
      "           8       0.54      0.46      0.50       100\n",
      "           9       0.63      0.64      0.63       100\n",
      "\n",
      "    accuracy                           0.43      1000\n",
      "   macro avg       0.43      0.43      0.41      1000\n",
      "weighted avg       0.43      0.43      0.41      1000\n",
      "\n"
     ]
    }
   ],
   "source": [
    "print(classification_report(test_labels, predictions))"
   ]
  },
  {
   "cell_type": "markdown",
   "metadata": {
    "id": "wKP1J4RSsv1Z"
   },
   "source": [
    "## Convolutional Neural Network using normal input, with dropout and batch normalization\n",
    "\n",
    "This model is inspired by the VGGNet architecture, using same padding in convolutions and max pooling for feature reduction. It tries to reduce overfitting via the use of dropout layers and batch normalization."
   ]
  },
  {
   "cell_type": "code",
   "execution_count": 49,
   "metadata": {
    "id": "a-9xA1NQZOjv"
   },
   "outputs": [],
   "source": [
    "cnn_model = tf.keras.Sequential(layers=[\n",
    "    tf.keras.layers.Conv2D(32, kernel_size=(3, 3), input_shape=(32, 32, 3), padding='same'),\n",
    "    tf.keras.layers.BatchNormalization(),\n",
    "    tf.keras.layers.Activation('relu'),\n",
    "    tf.keras.layers.Conv2D(32, kernel_size=(3, 3), padding='same'),\n",
    "    tf.keras.layers.BatchNormalization(),\n",
    "    tf.keras.layers.Activation('relu'),\n",
    "    tf.keras.layers.MaxPooling2D(pool_size=(2, 2)),\n",
    "    tf.keras.layers.Dropout(0.3),\n",
    "\n",
    "    tf.keras.layers.Conv2D(64, kernel_size=(3, 3), padding='same'),\n",
    "    tf.keras.layers.BatchNormalization(),\n",
    "    tf.keras.layers.Activation('relu'),\n",
    "    tf.keras.layers.Conv2D(64, kernel_size=(3, 3), padding='same'),\n",
    "    tf.keras.layers.BatchNormalization(),\n",
    "    tf.keras.layers.Activation('relu'),\n",
    "    tf.keras.layers.MaxPooling2D(pool_size=(2, 2)),\n",
    "    tf.keras.layers.Dropout(0.4),\n",
    "\n",
    "    tf.keras.layers.Conv2D(128, kernel_size=(3, 3), padding='same'),\n",
    "    tf.keras.layers.BatchNormalization(),\n",
    "    tf.keras.layers.Activation('relu'),\n",
    "    tf.keras.layers.Conv2D(128, kernel_size=(3, 3), padding='same'),\n",
    "    tf.keras.layers.BatchNormalization(),\n",
    "    tf.keras.layers.Activation('relu'),\n",
    "    tf.keras.layers.Conv2D(128, kernel_size=(3, 3), padding='same'),\n",
    "    tf.keras.layers.BatchNormalization(),\n",
    "    tf.keras.layers.Activation('relu'),\n",
    "    tf.keras.layers.Conv2D(128, kernel_size=(3, 3), padding='same'),\n",
    "    tf.keras.layers.BatchNormalization(),\n",
    "    tf.keras.layers.Activation('relu'),\n",
    "    tf.keras.layers.MaxPooling2D(pool_size=(2, 2)),\n",
    "    tf.keras.layers.Dropout(0.5),\n",
    "\n",
    "    tf.keras.layers.Flatten(),\n",
    "    tf.keras.layers.Dense(128),\n",
    "    tf.keras.layers.Activation('relu'),\n",
    "    tf.keras.layers.BatchNormalization(),\n",
    "    tf.keras.layers.Dropout(0.5),\n",
    "    tf.keras.layers.Dense(10, activation=tf.nn.softmax)])"
   ]
  },
  {
   "cell_type": "code",
   "execution_count": 50,
   "metadata": {
    "id": "cayyZMLbch5S"
   },
   "outputs": [],
   "source": [
    "cnn_model.compile(optimizer=tf.keras.optimizers.Adam(learning_rate=0.001), \n",
    "loss=tf.keras.losses.SparseCategoricalCrossentropy(), \n",
    "metrics=tf.keras.metrics.SparseCategoricalAccuracy())"
   ]
  },
  {
   "cell_type": "code",
   "execution_count": 51,
   "metadata": {
    "colab": {
     "base_uri": "https://localhost:8080/"
    },
    "id": "dA_cH3F4ckmR",
    "outputId": "63d4c995-659d-4a51-be2a-4c1ef33f306d"
   },
   "outputs": [
    {
     "name": "stdout",
     "output_type": "stream",
     "text": [
      "Epoch 1/100\n",
      "71/71 [==============================] - 3s 23ms/step - loss: 3.0229 - sparse_categorical_accuracy: 0.1475 - val_loss: 2.7117 - val_sparse_categorical_accuracy: 0.0900\n",
      "Epoch 2/100\n",
      "71/71 [==============================] - 1s 18ms/step - loss: 2.0874 - sparse_categorical_accuracy: 0.2862 - val_loss: 4.5234 - val_sparse_categorical_accuracy: 0.0940\n",
      "Epoch 3/100\n",
      "71/71 [==============================] - 1s 18ms/step - loss: 1.8231 - sparse_categorical_accuracy: 0.3537 - val_loss: 5.3388 - val_sparse_categorical_accuracy: 0.0980\n",
      "Epoch 4/100\n",
      "71/71 [==============================] - 1s 19ms/step - loss: 1.6268 - sparse_categorical_accuracy: 0.4055 - val_loss: 4.0044 - val_sparse_categorical_accuracy: 0.0860\n",
      "Epoch 5/100\n",
      "71/71 [==============================] - 1s 19ms/step - loss: 1.5340 - sparse_categorical_accuracy: 0.4498 - val_loss: 3.1897 - val_sparse_categorical_accuracy: 0.1050\n",
      "Epoch 6/100\n",
      "71/71 [==============================] - 1s 19ms/step - loss: 1.4096 - sparse_categorical_accuracy: 0.4876 - val_loss: 1.8758 - val_sparse_categorical_accuracy: 0.3500\n",
      "Epoch 7/100\n",
      "71/71 [==============================] - 1s 19ms/step - loss: 1.3687 - sparse_categorical_accuracy: 0.4992 - val_loss: 1.9062 - val_sparse_categorical_accuracy: 0.3530\n",
      "Epoch 8/100\n",
      "71/71 [==============================] - 1s 19ms/step - loss: 1.2920 - sparse_categorical_accuracy: 0.5349 - val_loss: 1.7307 - val_sparse_categorical_accuracy: 0.4410\n",
      "Epoch 9/100\n",
      "71/71 [==============================] - 1s 19ms/step - loss: 1.1623 - sparse_categorical_accuracy: 0.5806 - val_loss: 1.1994 - val_sparse_categorical_accuracy: 0.5710\n",
      "Epoch 10/100\n",
      "71/71 [==============================] - 1s 19ms/step - loss: 1.1402 - sparse_categorical_accuracy: 0.5932 - val_loss: 1.4846 - val_sparse_categorical_accuracy: 0.4970\n",
      "Epoch 11/100\n",
      "71/71 [==============================] - 1s 19ms/step - loss: 1.0960 - sparse_categorical_accuracy: 0.6061 - val_loss: 1.2253 - val_sparse_categorical_accuracy: 0.5770\n",
      "Epoch 12/100\n",
      "71/71 [==============================] - 1s 19ms/step - loss: 1.0388 - sparse_categorical_accuracy: 0.6267 - val_loss: 1.2139 - val_sparse_categorical_accuracy: 0.5850\n",
      "Epoch 13/100\n",
      "71/71 [==============================] - 1s 19ms/step - loss: 0.9760 - sparse_categorical_accuracy: 0.6491 - val_loss: 1.1488 - val_sparse_categorical_accuracy: 0.5910\n",
      "Epoch 14/100\n",
      "71/71 [==============================] - 1s 19ms/step - loss: 0.9484 - sparse_categorical_accuracy: 0.6647 - val_loss: 1.2758 - val_sparse_categorical_accuracy: 0.5910\n",
      "Epoch 15/100\n",
      "71/71 [==============================] - 1s 19ms/step - loss: 0.9164 - sparse_categorical_accuracy: 0.6705 - val_loss: 0.9228 - val_sparse_categorical_accuracy: 0.6760\n",
      "Epoch 16/100\n",
      "71/71 [==============================] - 1s 19ms/step - loss: 0.8838 - sparse_categorical_accuracy: 0.6897 - val_loss: 1.1692 - val_sparse_categorical_accuracy: 0.6120\n",
      "Epoch 17/100\n",
      "71/71 [==============================] - 1s 19ms/step - loss: 0.8340 - sparse_categorical_accuracy: 0.7168 - val_loss: 0.9785 - val_sparse_categorical_accuracy: 0.6550\n",
      "Epoch 18/100\n",
      "71/71 [==============================] - 1s 19ms/step - loss: 0.8157 - sparse_categorical_accuracy: 0.7061 - val_loss: 1.0662 - val_sparse_categorical_accuracy: 0.6240\n",
      "Epoch 19/100\n",
      "71/71 [==============================] - 1s 19ms/step - loss: 0.7650 - sparse_categorical_accuracy: 0.7257 - val_loss: 0.8744 - val_sparse_categorical_accuracy: 0.7060\n",
      "Epoch 20/100\n",
      "71/71 [==============================] - 1s 19ms/step - loss: 0.7459 - sparse_categorical_accuracy: 0.7471 - val_loss: 0.8718 - val_sparse_categorical_accuracy: 0.7150\n",
      "Epoch 21/100\n",
      "71/71 [==============================] - 1s 19ms/step - loss: 0.7333 - sparse_categorical_accuracy: 0.7431 - val_loss: 1.1639 - val_sparse_categorical_accuracy: 0.6470\n",
      "Epoch 22/100\n",
      "71/71 [==============================] - 1s 19ms/step - loss: 0.7110 - sparse_categorical_accuracy: 0.7535 - val_loss: 0.8957 - val_sparse_categorical_accuracy: 0.6980\n",
      "Epoch 23/100\n",
      "71/71 [==============================] - 1s 19ms/step - loss: 0.6601 - sparse_categorical_accuracy: 0.7658 - val_loss: 0.9234 - val_sparse_categorical_accuracy: 0.6860\n",
      "Epoch 24/100\n",
      "71/71 [==============================] - 1s 19ms/step - loss: 0.6382 - sparse_categorical_accuracy: 0.7672 - val_loss: 0.9814 - val_sparse_categorical_accuracy: 0.6840\n",
      "Epoch 25/100\n",
      "71/71 [==============================] - 1s 19ms/step - loss: 0.6063 - sparse_categorical_accuracy: 0.7917 - val_loss: 0.8548 - val_sparse_categorical_accuracy: 0.7180\n",
      "Epoch 26/100\n",
      "71/71 [==============================] - 1s 18ms/step - loss: 0.5818 - sparse_categorical_accuracy: 0.7940 - val_loss: 0.8703 - val_sparse_categorical_accuracy: 0.7150\n",
      "Epoch 27/100\n",
      "71/71 [==============================] - 1s 18ms/step - loss: 0.5618 - sparse_categorical_accuracy: 0.8069 - val_loss: 0.9660 - val_sparse_categorical_accuracy: 0.7070\n",
      "Epoch 28/100\n",
      "71/71 [==============================] - 1s 19ms/step - loss: 0.5497 - sparse_categorical_accuracy: 0.8117 - val_loss: 1.0541 - val_sparse_categorical_accuracy: 0.6800\n",
      "Epoch 29/100\n",
      "71/71 [==============================] - 1s 19ms/step - loss: 0.5256 - sparse_categorical_accuracy: 0.8156 - val_loss: 0.8084 - val_sparse_categorical_accuracy: 0.7360\n",
      "Epoch 30/100\n",
      "71/71 [==============================] - 1s 19ms/step - loss: 0.4902 - sparse_categorical_accuracy: 0.8302 - val_loss: 0.8280 - val_sparse_categorical_accuracy: 0.7150\n",
      "Epoch 31/100\n",
      "71/71 [==============================] - 1s 19ms/step - loss: 0.4805 - sparse_categorical_accuracy: 0.8351 - val_loss: 0.8412 - val_sparse_categorical_accuracy: 0.7280\n",
      "Epoch 32/100\n",
      "71/71 [==============================] - 1s 18ms/step - loss: 0.4489 - sparse_categorical_accuracy: 0.8397 - val_loss: 0.7850 - val_sparse_categorical_accuracy: 0.7480\n",
      "Epoch 33/100\n",
      "71/71 [==============================] - 1s 18ms/step - loss: 0.4268 - sparse_categorical_accuracy: 0.8502 - val_loss: 0.9745 - val_sparse_categorical_accuracy: 0.7200\n",
      "Epoch 34/100\n",
      "71/71 [==============================] - 1s 19ms/step - loss: 0.4214 - sparse_categorical_accuracy: 0.8585 - val_loss: 0.8038 - val_sparse_categorical_accuracy: 0.7490\n",
      "Epoch 35/100\n",
      "71/71 [==============================] - 1s 19ms/step - loss: 0.4111 - sparse_categorical_accuracy: 0.8534 - val_loss: 0.8341 - val_sparse_categorical_accuracy: 0.7460\n",
      "Epoch 36/100\n",
      "71/71 [==============================] - 1s 18ms/step - loss: 0.3895 - sparse_categorical_accuracy: 0.8631 - val_loss: 0.8526 - val_sparse_categorical_accuracy: 0.7320\n",
      "Epoch 37/100\n",
      "71/71 [==============================] - 1s 20ms/step - loss: 0.3617 - sparse_categorical_accuracy: 0.8760 - val_loss: 1.0053 - val_sparse_categorical_accuracy: 0.7040\n",
      "Epoch 38/100\n",
      "71/71 [==============================] - 1s 18ms/step - loss: 0.3424 - sparse_categorical_accuracy: 0.8788 - val_loss: 0.8485 - val_sparse_categorical_accuracy: 0.7530\n",
      "Epoch 39/100\n",
      "71/71 [==============================] - 1s 18ms/step - loss: 0.3270 - sparse_categorical_accuracy: 0.8884 - val_loss: 0.9215 - val_sparse_categorical_accuracy: 0.7350\n",
      "Epoch 40/100\n",
      "71/71 [==============================] - 1s 18ms/step - loss: 0.3218 - sparse_categorical_accuracy: 0.8861 - val_loss: 0.8091 - val_sparse_categorical_accuracy: 0.7470\n",
      "Epoch 41/100\n",
      "71/71 [==============================] - 1s 18ms/step - loss: 0.3379 - sparse_categorical_accuracy: 0.8744 - val_loss: 1.2032 - val_sparse_categorical_accuracy: 0.6830\n",
      "Epoch 42/100\n",
      "71/71 [==============================] - 1s 18ms/step - loss: 0.2899 - sparse_categorical_accuracy: 0.8955 - val_loss: 0.8821 - val_sparse_categorical_accuracy: 0.7440\n",
      "Epoch 43/100\n",
      "71/71 [==============================] - 1s 18ms/step - loss: 0.2838 - sparse_categorical_accuracy: 0.9036 - val_loss: 0.8340 - val_sparse_categorical_accuracy: 0.7610\n",
      "Epoch 44/100\n",
      "71/71 [==============================] - 1s 18ms/step - loss: 0.2741 - sparse_categorical_accuracy: 0.9032 - val_loss: 0.8684 - val_sparse_categorical_accuracy: 0.7640\n",
      "Epoch 45/100\n",
      "71/71 [==============================] - 1s 19ms/step - loss: 0.2684 - sparse_categorical_accuracy: 0.9080 - val_loss: 0.9150 - val_sparse_categorical_accuracy: 0.7490\n",
      "Epoch 46/100\n",
      "71/71 [==============================] - 1s 18ms/step - loss: 0.2456 - sparse_categorical_accuracy: 0.9169 - val_loss: 0.8421 - val_sparse_categorical_accuracy: 0.7760\n",
      "Epoch 47/100\n",
      "71/71 [==============================] - 1s 18ms/step - loss: 0.2433 - sparse_categorical_accuracy: 0.9135 - val_loss: 0.8983 - val_sparse_categorical_accuracy: 0.7490\n",
      "Epoch 48/100\n",
      "71/71 [==============================] - 1s 19ms/step - loss: 0.2202 - sparse_categorical_accuracy: 0.9235 - val_loss: 0.8842 - val_sparse_categorical_accuracy: 0.7600\n",
      "Epoch 49/100\n",
      "71/71 [==============================] - 1s 19ms/step - loss: 0.2194 - sparse_categorical_accuracy: 0.9252 - val_loss: 0.9047 - val_sparse_categorical_accuracy: 0.7610\n",
      "Epoch 50/100\n",
      "71/71 [==============================] - 1s 18ms/step - loss: 0.2187 - sparse_categorical_accuracy: 0.9269 - val_loss: 0.8333 - val_sparse_categorical_accuracy: 0.7660\n",
      "Epoch 51/100\n",
      "71/71 [==============================] - 1s 19ms/step - loss: 0.2281 - sparse_categorical_accuracy: 0.9220 - val_loss: 0.9340 - val_sparse_categorical_accuracy: 0.7600\n",
      "Epoch 52/100\n",
      "71/71 [==============================] - 1s 19ms/step - loss: 0.2407 - sparse_categorical_accuracy: 0.9143 - val_loss: 0.8973 - val_sparse_categorical_accuracy: 0.7470\n",
      "Epoch 53/100\n",
      "71/71 [==============================] - 1s 18ms/step - loss: 0.1986 - sparse_categorical_accuracy: 0.9299 - val_loss: 0.9475 - val_sparse_categorical_accuracy: 0.7430\n",
      "Epoch 54/100\n",
      "71/71 [==============================] - 1s 19ms/step - loss: 0.2236 - sparse_categorical_accuracy: 0.9235 - val_loss: 0.9134 - val_sparse_categorical_accuracy: 0.7820\n",
      "Epoch 55/100\n",
      "71/71 [==============================] - 1s 18ms/step - loss: 0.1807 - sparse_categorical_accuracy: 0.9390 - val_loss: 0.9566 - val_sparse_categorical_accuracy: 0.7490\n",
      "Epoch 56/100\n",
      "71/71 [==============================] - 1s 18ms/step - loss: 0.1874 - sparse_categorical_accuracy: 0.9364 - val_loss: 0.9525 - val_sparse_categorical_accuracy: 0.7690\n",
      "Epoch 57/100\n",
      "71/71 [==============================] - 1s 19ms/step - loss: 0.1827 - sparse_categorical_accuracy: 0.9354 - val_loss: 0.9337 - val_sparse_categorical_accuracy: 0.7720\n",
      "Epoch 58/100\n",
      "71/71 [==============================] - 1s 19ms/step - loss: 0.1644 - sparse_categorical_accuracy: 0.9431 - val_loss: 0.9005 - val_sparse_categorical_accuracy: 0.7820\n",
      "Epoch 59/100\n",
      "71/71 [==============================] - 1s 18ms/step - loss: 0.1545 - sparse_categorical_accuracy: 0.9474 - val_loss: 0.9195 - val_sparse_categorical_accuracy: 0.7910\n",
      "Epoch 60/100\n",
      "71/71 [==============================] - 1s 19ms/step - loss: 0.1679 - sparse_categorical_accuracy: 0.9398 - val_loss: 0.9215 - val_sparse_categorical_accuracy: 0.7830\n",
      "Epoch 61/100\n",
      "71/71 [==============================] - 1s 18ms/step - loss: 0.1418 - sparse_categorical_accuracy: 0.9518 - val_loss: 0.8871 - val_sparse_categorical_accuracy: 0.7840\n",
      "Epoch 62/100\n",
      "71/71 [==============================] - 1s 19ms/step - loss: 0.1302 - sparse_categorical_accuracy: 0.9594 - val_loss: 1.0369 - val_sparse_categorical_accuracy: 0.7770\n",
      "Epoch 63/100\n",
      "71/71 [==============================] - 1s 19ms/step - loss: 0.1359 - sparse_categorical_accuracy: 0.9574 - val_loss: 0.9232 - val_sparse_categorical_accuracy: 0.7730\n",
      "Epoch 64/100\n",
      "71/71 [==============================] - 1s 18ms/step - loss: 0.1275 - sparse_categorical_accuracy: 0.9562 - val_loss: 0.9455 - val_sparse_categorical_accuracy: 0.7770\n",
      "Epoch 65/100\n",
      "71/71 [==============================] - 1s 18ms/step - loss: 0.1379 - sparse_categorical_accuracy: 0.9546 - val_loss: 1.1792 - val_sparse_categorical_accuracy: 0.7420\n",
      "Epoch 66/100\n",
      "71/71 [==============================] - 1s 19ms/step - loss: 0.1403 - sparse_categorical_accuracy: 0.9495 - val_loss: 1.0845 - val_sparse_categorical_accuracy: 0.7580\n",
      "Epoch 67/100\n",
      "71/71 [==============================] - 1s 19ms/step - loss: 0.1213 - sparse_categorical_accuracy: 0.9577 - val_loss: 1.1070 - val_sparse_categorical_accuracy: 0.7630\n",
      "Epoch 68/100\n",
      "71/71 [==============================] - 1s 18ms/step - loss: 0.1270 - sparse_categorical_accuracy: 0.9581 - val_loss: 1.0764 - val_sparse_categorical_accuracy: 0.7680\n",
      "Epoch 69/100\n",
      "71/71 [==============================] - 1s 19ms/step - loss: 0.1146 - sparse_categorical_accuracy: 0.9592 - val_loss: 1.1669 - val_sparse_categorical_accuracy: 0.7630\n",
      "Epoch 70/100\n",
      "71/71 [==============================] - 1s 19ms/step - loss: 0.1142 - sparse_categorical_accuracy: 0.9603 - val_loss: 0.9989 - val_sparse_categorical_accuracy: 0.7670\n",
      "Epoch 71/100\n",
      "71/71 [==============================] - 1s 18ms/step - loss: 0.1183 - sparse_categorical_accuracy: 0.9602 - val_loss: 1.2372 - val_sparse_categorical_accuracy: 0.7500\n",
      "Epoch 72/100\n",
      "71/71 [==============================] - 1s 18ms/step - loss: 0.1106 - sparse_categorical_accuracy: 0.9610 - val_loss: 1.0597 - val_sparse_categorical_accuracy: 0.7800\n",
      "Epoch 73/100\n",
      "71/71 [==============================] - 1s 18ms/step - loss: 0.1123 - sparse_categorical_accuracy: 0.9615 - val_loss: 0.9868 - val_sparse_categorical_accuracy: 0.7770\n",
      "Epoch 74/100\n",
      "71/71 [==============================] - 1s 19ms/step - loss: 0.1155 - sparse_categorical_accuracy: 0.9581 - val_loss: 1.0928 - val_sparse_categorical_accuracy: 0.7690\n",
      "Epoch 75/100\n",
      "71/71 [==============================] - 1s 19ms/step - loss: 0.1182 - sparse_categorical_accuracy: 0.9610 - val_loss: 1.1247 - val_sparse_categorical_accuracy: 0.7560\n",
      "Epoch 76/100\n",
      "71/71 [==============================] - 1s 18ms/step - loss: 0.1052 - sparse_categorical_accuracy: 0.9663 - val_loss: 0.9721 - val_sparse_categorical_accuracy: 0.7650\n",
      "Epoch 77/100\n",
      "71/71 [==============================] - 1s 19ms/step - loss: 0.0990 - sparse_categorical_accuracy: 0.9671 - val_loss: 1.1792 - val_sparse_categorical_accuracy: 0.7500\n",
      "Epoch 78/100\n",
      "71/71 [==============================] - 1s 18ms/step - loss: 0.1029 - sparse_categorical_accuracy: 0.9639 - val_loss: 1.1899 - val_sparse_categorical_accuracy: 0.7580\n",
      "Epoch 79/100\n",
      "71/71 [==============================] - 1s 19ms/step - loss: 0.0882 - sparse_categorical_accuracy: 0.9710 - val_loss: 1.1964 - val_sparse_categorical_accuracy: 0.7520\n",
      "Epoch 80/100\n",
      "71/71 [==============================] - 1s 19ms/step - loss: 0.1018 - sparse_categorical_accuracy: 0.9661 - val_loss: 1.1371 - val_sparse_categorical_accuracy: 0.7680\n",
      "Epoch 81/100\n",
      "71/71 [==============================] - 1s 19ms/step - loss: 0.1158 - sparse_categorical_accuracy: 0.9607 - val_loss: 1.1555 - val_sparse_categorical_accuracy: 0.7560\n",
      "Epoch 82/100\n",
      "71/71 [==============================] - 1s 19ms/step - loss: 0.1216 - sparse_categorical_accuracy: 0.9598 - val_loss: 1.1432 - val_sparse_categorical_accuracy: 0.7600\n",
      "Epoch 83/100\n",
      "71/71 [==============================] - 1s 19ms/step - loss: 0.1247 - sparse_categorical_accuracy: 0.9558 - val_loss: 1.0877 - val_sparse_categorical_accuracy: 0.7800\n",
      "Epoch 84/100\n",
      "71/71 [==============================] - 1s 19ms/step - loss: 0.0870 - sparse_categorical_accuracy: 0.9716 - val_loss: 1.0054 - val_sparse_categorical_accuracy: 0.7750\n",
      "Epoch 85/100\n",
      "71/71 [==============================] - 1s 19ms/step - loss: 0.0978 - sparse_categorical_accuracy: 0.9673 - val_loss: 1.1556 - val_sparse_categorical_accuracy: 0.7680\n",
      "Epoch 86/100\n",
      "71/71 [==============================] - 1s 19ms/step - loss: 0.0983 - sparse_categorical_accuracy: 0.9693 - val_loss: 1.3066 - val_sparse_categorical_accuracy: 0.7400\n",
      "Epoch 87/100\n",
      "71/71 [==============================] - 1s 20ms/step - loss: 0.0874 - sparse_categorical_accuracy: 0.9704 - val_loss: 1.2710 - val_sparse_categorical_accuracy: 0.7550\n",
      "Epoch 88/100\n",
      "71/71 [==============================] - 1s 19ms/step - loss: 0.0950 - sparse_categorical_accuracy: 0.9689 - val_loss: 1.0787 - val_sparse_categorical_accuracy: 0.7820\n",
      "Epoch 89/100\n",
      "71/71 [==============================] - 1s 19ms/step - loss: 0.0793 - sparse_categorical_accuracy: 0.9748 - val_loss: 1.0444 - val_sparse_categorical_accuracy: 0.7920\n",
      "Epoch 90/100\n",
      "71/71 [==============================] - 1s 18ms/step - loss: 0.0735 - sparse_categorical_accuracy: 0.9751 - val_loss: 1.2532 - val_sparse_categorical_accuracy: 0.7660\n",
      "Epoch 91/100\n",
      "71/71 [==============================] - 1s 19ms/step - loss: 0.0691 - sparse_categorical_accuracy: 0.9754 - val_loss: 1.0312 - val_sparse_categorical_accuracy: 0.7950\n",
      "Epoch 92/100\n",
      "71/71 [==============================] - 1s 19ms/step - loss: 0.0838 - sparse_categorical_accuracy: 0.9712 - val_loss: 1.0294 - val_sparse_categorical_accuracy: 0.7960\n",
      "Epoch 93/100\n",
      "71/71 [==============================] - 1s 19ms/step - loss: 0.0722 - sparse_categorical_accuracy: 0.9750 - val_loss: 1.1033 - val_sparse_categorical_accuracy: 0.7580\n",
      "Epoch 94/100\n",
      "71/71 [==============================] - 1s 18ms/step - loss: 0.0649 - sparse_categorical_accuracy: 0.9757 - val_loss: 1.0347 - val_sparse_categorical_accuracy: 0.7710\n",
      "Epoch 95/100\n",
      "71/71 [==============================] - 1s 19ms/step - loss: 0.0867 - sparse_categorical_accuracy: 0.9736 - val_loss: 1.1730 - val_sparse_categorical_accuracy: 0.7660\n",
      "Epoch 96/100\n",
      "71/71 [==============================] - 1s 19ms/step - loss: 0.0900 - sparse_categorical_accuracy: 0.9712 - val_loss: 1.0165 - val_sparse_categorical_accuracy: 0.7900\n",
      "Epoch 97/100\n",
      "71/71 [==============================] - 1s 18ms/step - loss: 0.0839 - sparse_categorical_accuracy: 0.9704 - val_loss: 1.1231 - val_sparse_categorical_accuracy: 0.7770\n",
      "Epoch 98/100\n",
      "71/71 [==============================] - 1s 18ms/step - loss: 0.0996 - sparse_categorical_accuracy: 0.9669 - val_loss: 1.2405 - val_sparse_categorical_accuracy: 0.7660\n",
      "Epoch 99/100\n",
      "71/71 [==============================] - 1s 18ms/step - loss: 0.0656 - sparse_categorical_accuracy: 0.9769 - val_loss: 1.1567 - val_sparse_categorical_accuracy: 0.7600\n",
      "Epoch 100/100\n",
      "71/71 [==============================] - 1s 18ms/step - loss: 0.0759 - sparse_categorical_accuracy: 0.9719 - val_loss: 1.1730 - val_sparse_categorical_accuracy: 0.7780\n"
     ]
    }
   ],
   "source": [
    "start = timer()\n",
    "cnn_log = cnn_model.fit(train_data, train_labels, epochs=100, batch_size=128, validation_split=0.1, verbose=1)\n",
    "end = timer()"
   ]
  },
  {
   "cell_type": "code",
   "execution_count": 52,
   "metadata": {
    "colab": {
     "base_uri": "https://localhost:8080/"
    },
    "id": "I00qVRIUVxi2",
    "outputId": "e6172007-708d-4a63-87fc-ac152b1054eb"
   },
   "outputs": [
    {
     "name": "stdout",
     "output_type": "stream",
     "text": [
      "134.21851079499902 seconds training time.\n"
     ]
    }
   ],
   "source": [
    "time_taken = end - start\n",
    "print(time_taken, \"seconds training time.\")"
   ]
  },
  {
   "cell_type": "code",
   "execution_count": 53,
   "metadata": {
    "colab": {
     "base_uri": "https://localhost:8080/"
    },
    "id": "v1r04HmFj49R",
    "outputId": "d749a22d-9654-4ae9-faea-78fb5108e915"
   },
   "outputs": [
    {
     "name": "stdout",
     "output_type": "stream",
     "text": [
      "32/32 [==============================] - 0s 3ms/step - loss: 1.4363 - sparse_categorical_accuracy: 0.7370\n"
     ]
    },
    {
     "data": {
      "text/plain": [
       "[1.4362965822219849, 0.7369999885559082]"
      ]
     },
     "execution_count": 53,
     "metadata": {
      "tags": []
     },
     "output_type": "execute_result"
    }
   ],
   "source": [
    "cnn_model.evaluate(test_data, test_labels)"
   ]
  },
  {
   "cell_type": "code",
   "execution_count": 54,
   "metadata": {
    "colab": {
     "base_uri": "https://localhost:8080/",
     "height": 297
    },
    "id": "sbZWfKE79OWi",
    "outputId": "3bf3bbb7-4e8f-4916-934d-4d7c37852a91"
   },
   "outputs": [
    {
     "data": {
      "image/png": "[encoded data removed]",
      "text/plain": [
       "<Figure size 432x288 with 2 Axes>"
      ]
     },
     "metadata": {
      "needs_background": "light",
      "tags": []
     },
     "output_type": "display_data"
    }
   ],
   "source": [
    "plt.figure()\n",
    "plt.subplot(1, 2, 1)\n",
    "plt.plot(cnn_log.history['sparse_categorical_accuracy'])\n",
    "plt.plot(cnn_log.history['val_sparse_categorical_accuracy'])\n",
    "plt.xlabel('Epoch')\n",
    "plt.ylabel('Accuracy')\n",
    "plt.legend(['Training Accuracy',\n",
    "           'Validation Accuracy'])\n",
    "plt.title('Accuracy Curves')\n",
    "\n",
    "plt.subplot(1, 2, 2)\n",
    "plt.plot(cnn_log.history['loss'])\n",
    "plt.plot(cnn_log.history['val_loss'])\n",
    "plt.xlabel('Epoch')\n",
    "plt.ylabel('Loss')\n",
    "plt.legend(['Training Loss',\n",
    "           'Validation Loss'])\n",
    "plt.title('Loss Curves')\n",
    "\n",
    "plt.tight_layout()\n",
    "plt.show()"
   ]
  },
  {
   "cell_type": "code",
   "execution_count": 55,
   "metadata": {
    "id": "Ms2ZWX4kHUkU"
   },
   "outputs": [],
   "source": [
    "predictions = np.argmax(cnn_model.predict(test_data), axis=-1)"
   ]
  },
  {
   "cell_type": "code",
   "execution_count": 56,
   "metadata": {
    "id": "bL1TfJ-VHWW6"
   },
   "outputs": [],
   "source": [
    "cm = confusion_matrix(test_labels, predictions)"
   ]
  },
  {
   "cell_type": "code",
   "execution_count": 57,
   "metadata": {
    "colab": {
     "base_uri": "https://localhost:8080/",
     "height": 348
    },
    "id": "z55QAc1_HYxM",
    "outputId": "2c95bb32-4e61-4ff8-ca8f-59ae25823ec0"
   },
   "outputs": [
    {
     "name": "stdout",
     "output_type": "stream",
     "text": [
      "Confusion matrix for CNN\n"
     ]
    },
    {
     "data": {
      "text/plain": [
       "<matplotlib.axes._subplots.AxesSubplot at 0x7fef580b9208>"
      ]
     },
     "execution_count": 57,
     "metadata": {
      "tags": []
     },
     "output_type": "execute_result"
    },
    {
     "data": {
      "image/png": "[encoded data removed]",
      "text/plain": [
       "<Figure size 432x288 with 2 Axes>"
      ]
     },
     "metadata": {
      "needs_background": "light",
      "tags": []
     },
     "output_type": "display_data"
    }
   ],
   "source": [
    "print(\"Confusion matrix for CNN\")\n",
    "sns.heatmap(cm, annot=True, xticklabels=class_labels, \n",
    "            yticklabels=class_labels)"
   ]
  },
  {
   "cell_type": "code",
   "execution_count": 58,
   "metadata": {
    "colab": {
     "base_uri": "https://localhost:8080/"
    },
    "id": "5koef0BHJOZc",
    "outputId": "ec6047fa-b2bd-460d-8834-9c5fd91b480f"
   },
   "outputs": [
    {
     "name": "stdout",
     "output_type": "stream",
     "text": [
      "              precision    recall  f1-score   support\n",
      "\n",
      "           0       0.80      0.76      0.78       100\n",
      "           1       0.89      0.80      0.84       100\n",
      "           2       0.67      0.63      0.65       100\n",
      "           3       0.73      0.36      0.48       100\n",
      "           4       0.75      0.76      0.76       100\n",
      "           5       0.68      0.68      0.68       100\n",
      "           6       0.80      0.80      0.80       100\n",
      "           7       0.76      0.78      0.77       100\n",
      "           8       0.77      0.89      0.82       100\n",
      "           9       0.60      0.91      0.72       100\n",
      "\n",
      "    accuracy                           0.74      1000\n",
      "   macro avg       0.74      0.74      0.73      1000\n",
      "weighted avg       0.74      0.74      0.73      1000\n",
      "\n"
     ]
    }
   ],
   "source": [
    "print(classification_report(test_labels, predictions))"
   ]
  }
 ],
 "metadata": {
  "accelerator": "GPU",
  "colab": {
   "collapsed_sections": [],
   "name": "2031545.ipynb",
   "provenance": []
  },
  "kernelspec": {
   "display_name": "Python 3",
   "language": "python",
   "name": "python3"
  },
  "language_info": {
   "codemirror_mode": {
    "name": "ipython",
    "version": 3
   },
   "file_extension": ".py",
   "mimetype": "text/x-python",
   "name": "python",
   "nbconvert_exporter": "python",
   "pygments_lexer": "ipython3",
   "version": "3.8.5"
  }
 },
 "nbformat": 4,
 "nbformat_minor": 4
}
